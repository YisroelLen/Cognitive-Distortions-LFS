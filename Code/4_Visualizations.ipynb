{
 "cells": [
  {
   "cell_type": "markdown",
   "metadata": {},
   "source": [
    "# Test on Actual Recording"
   ]
  },
  {
   "cell_type": "code",
   "execution_count": 1,
   "metadata": {},
   "outputs": [],
   "source": [
    "import speech_recognition as sr \n",
    "import time\n",
    "import pandas as pd\n",
    "import numpy as np\n",
    "import pickle\n",
    "import sys\n",
    "# to run this file you have to create a file path to it. You'll have to change this on your computer.\n",
    "sys.path.insert(1, 'C:/Users/canin/GA_Work/Projects/Cognitive_Distortions/Final_Models')\n",
    "from textwrap import wrap\n",
    "from Final_Model_Functions import *"
   ]
  },
  {
   "cell_type": "markdown",
   "metadata": {},
   "source": [
    "Import and unpack pickled models"
   ]
  },
  {
   "cell_type": "code",
   "execution_count": 2,
   "metadata": {},
   "outputs": [],
   "source": [
    "infile = open('../Final_Models/Three_Models','rb')\n",
    "new_dict = pickle.load(infile)\n",
    "# unpack the list of weights from the dictionary into a variable\n",
    "weights = new_dict['Weights']\n",
    "# unpack the list of models from the dictionary into a variable\n",
    "models = new_dict['Models']\n",
    "infile.close()"
   ]
  },
  {
   "cell_type": "markdown",
   "metadata": {},
   "source": [
    "For this to run you'll need the speech recognition package."
   ]
  },
  {
   "cell_type": "code",
   "execution_count": 3,
   "metadata": {},
   "outputs": [
    {
     "name": "stdout",
     "output_type": "stream",
     "text": [
      "You said : I am fearful I am a coward I am moderately fearful quite generous and fairly intelligent I am more fearful than most people I know I have always been and always will be a coward my fears vary from time to time and from situation to situation I have a defect in my character I avoid situations too much and I have many fears since I am basically week there's nothing that can be done about it\n"
     ]
    }
   ],
   "source": [
    "r = sr.Recognizer()                 # initialize recognizer\n",
    "with sr.AudioFile('C:/Users/canin/GA_Work/Projects/Cognitive_Distortions_2/Data/Testing_Data/project_recording2.wav') as source:    \n",
    "    audio = r.listen(source)  # listen to the source\n",
    "    text = r.recognize_google(audio)\n",
    "    print(f\"You said : {text}\")"
   ]
  },
  {
   "cell_type": "markdown",
   "metadata": {},
   "source": [
    "**Important Note**: It's very difficult to split words into sentences when there's no punctuation like when it's transcribed from audio so i'm going to split the string every 20 letters.\n",
    "Turn the data into a data frame"
   ]
  },
  {
   "cell_type": "code",
   "execution_count": 4,
   "metadata": {},
   "outputs": [
    {
     "data": {
      "text/html": [
       "<div>\n",
       "<style scoped>\n",
       "    .dataframe tbody tr th:only-of-type {\n",
       "        vertical-align: middle;\n",
       "    }\n",
       "\n",
       "    .dataframe tbody tr th {\n",
       "        vertical-align: top;\n",
       "    }\n",
       "\n",
       "    .dataframe thead th {\n",
       "        text-align: right;\n",
       "    }\n",
       "</style>\n",
       "<table border=\"1\" class=\"dataframe\">\n",
       "  <thead>\n",
       "    <tr style=\"text-align: right;\">\n",
       "      <th></th>\n",
       "      <th>sentences</th>\n",
       "    </tr>\n",
       "  </thead>\n",
       "  <tbody>\n",
       "    <tr>\n",
       "      <th>0</th>\n",
       "      <td>I am fearful I am a</td>\n",
       "    </tr>\n",
       "    <tr>\n",
       "      <th>1</th>\n",
       "      <td>coward I am</td>\n",
       "    </tr>\n",
       "    <tr>\n",
       "      <th>2</th>\n",
       "      <td>moderately fearful</td>\n",
       "    </tr>\n",
       "    <tr>\n",
       "      <th>3</th>\n",
       "      <td>quite generous and</td>\n",
       "    </tr>\n",
       "    <tr>\n",
       "      <th>4</th>\n",
       "      <td>fairly intelligent I</td>\n",
       "    </tr>\n",
       "    <tr>\n",
       "      <th>5</th>\n",
       "      <td>am more fearful than</td>\n",
       "    </tr>\n",
       "    <tr>\n",
       "      <th>6</th>\n",
       "      <td>most people I know I</td>\n",
       "    </tr>\n",
       "    <tr>\n",
       "      <th>7</th>\n",
       "      <td>have always been and</td>\n",
       "    </tr>\n",
       "    <tr>\n",
       "      <th>8</th>\n",
       "      <td>always will be a</td>\n",
       "    </tr>\n",
       "    <tr>\n",
       "      <th>9</th>\n",
       "      <td>coward my fears vary</td>\n",
       "    </tr>\n",
       "  </tbody>\n",
       "</table>\n",
       "</div>"
      ],
      "text/plain": [
       "              sentences\n",
       "0   I am fearful I am a\n",
       "1           coward I am\n",
       "2    moderately fearful\n",
       "3    quite generous and\n",
       "4  fairly intelligent I\n",
       "5  am more fearful than\n",
       "6  most people I know I\n",
       "7  have always been and\n",
       "8      always will be a\n",
       "9  coward my fears vary"
      ]
     },
     "execution_count": 4,
     "metadata": {},
     "output_type": "execute_result"
    }
   ],
   "source": [
    "df = pd.DataFrame(wrap(text, 20), columns = ['sentences'])\n",
    "df.head(10)             "
   ]
  },
  {
   "cell_type": "markdown",
   "metadata": {},
   "source": [
    "Apply the final model to make predictions. In order to do that I have to read in the word classifier data set."
   ]
  },
  {
   "cell_type": "code",
   "execution_count": 5,
   "metadata": {},
   "outputs": [],
   "source": [
    "Word_Classifier = pd.read_csv('../data/Training_Data/1_Uncleaned_Training_Data/Andbrain_DataSet.csv', index_col=0)"
   ]
  },
  {
   "cell_type": "code",
   "execution_count": 6,
   "metadata": {},
   "outputs": [],
   "source": [
    "prediction_list = combined_model_predictor(df, 'sentences', Word_Classifier, models, weights)"
   ]
  },
  {
   "cell_type": "markdown",
   "metadata": {},
   "source": [
    "Incorporate the predictions into the dataframe."
   ]
  },
  {
   "cell_type": "code",
   "execution_count": 7,
   "metadata": {},
   "outputs": [],
   "source": [
    "df['predictions'] = prediction_list"
   ]
  },
  {
   "cell_type": "markdown",
   "metadata": {},
   "source": [
    "Highlight the irrational parts"
   ]
  },
  {
   "cell_type": "code",
   "execution_count": 10,
   "metadata": {},
   "outputs": [
    {
     "name": "stdout",
     "output_type": "stream",
     "text": [
      "\u001b[0;30;0m I am fearful I am a \n",
      "\n",
      "\u001b[0;30;46m coward I am \n",
      "\n",
      "\u001b[0;30;46m moderately fearful \n",
      "\n",
      "\u001b[0;30;0m quite generous and \n",
      "\n",
      "\u001b[0;30;0m fairly intelligent I \n",
      "\n",
      "\u001b[0;30;0m am more fearful than \n",
      "\n",
      "\u001b[0;30;0m most people I know I \n",
      "\n",
      "\u001b[0;30;0m have always been and \n",
      "\n",
      "\u001b[0;30;0m always will be a \n",
      "\n",
      "\u001b[0;30;46m coward my fears vary \n",
      "\n",
      "\u001b[0;30;0m from time to time \n",
      "\n",
      "\u001b[0;30;46m and from situation \n",
      "\n",
      "\u001b[0;30;46m to situation I have \n",
      "\n",
      "\u001b[0;30;0m a defect in my \n",
      "\n",
      "\u001b[0;30;0m character I avoid \n",
      "\n",
      "\u001b[0;30;0m situations too much \n",
      "\n",
      "\u001b[0;30;0m and I have many \n",
      "\n",
      "\u001b[0;30;0m fears since I am \n",
      "\n",
      "\u001b[0;30;46m basically week \n",
      "\n",
      "\u001b[0;30;0m there's nothing that \n",
      "\n",
      "\u001b[0;30;0m can be done about it \n",
      "\n"
     ]
    }
   ],
   "source": [
    "highlighter(df, 'sentences', 'predictions')"
   ]
  },
  {
   "cell_type": "code",
   "execution_count": null,
   "metadata": {},
   "outputs": [],
   "source": []
  }
 ],
 "metadata": {
  "kernelspec": {
   "display_name": "Python 3",
   "language": "python",
   "name": "python3"
  },
  "language_info": {
   "codemirror_mode": {
    "name": "ipython",
    "version": 3
   },
   "file_extension": ".py",
   "mimetype": "text/x-python",
   "name": "python",
   "nbconvert_exporter": "python",
   "pygments_lexer": "ipython3",
   "version": "3.7.4"
  },
  "varInspector": {
   "cols": {
    "lenName": 16,
    "lenType": 16,
    "lenVar": 40
   },
   "kernels_config": {
    "python": {
     "delete_cmd_postfix": "",
     "delete_cmd_prefix": "del ",
     "library": "var_list.py",
     "varRefreshCmd": "print(var_dic_list())"
    },
    "r": {
     "delete_cmd_postfix": ") ",
     "delete_cmd_prefix": "rm(",
     "library": "var_list.r",
     "varRefreshCmd": "cat(var_dic_list()) "
    }
   },
   "types_to_exclude": [
    "module",
    "function",
    "builtin_function_or_method",
    "instance",
    "_Feature"
   ],
   "window_display": false
  }
 },
 "nbformat": 4,
 "nbformat_minor": 2
}
