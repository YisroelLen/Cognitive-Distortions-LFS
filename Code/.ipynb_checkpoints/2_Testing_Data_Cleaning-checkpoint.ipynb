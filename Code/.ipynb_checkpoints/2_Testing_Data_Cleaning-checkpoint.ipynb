{
 "cells": [
  {
   "cell_type": "markdown",
   "metadata": {},
   "source": [
    "# Testing Data \n",
    "\n",
    "## Notebook Goal\n",
    "It's unusual for testing and training data to have totally different datasets with totally different target variables. However, that is exactly what we are going to do. We are going to use the emotion classifiers and negativity classifier and test their ability to predict irrationality in a therapy session. So I gathered some publicly available transcripts of therapy sessions as well as some other potential data to test on. We'll have to clean them, as well as properly mark the target column. \n",
    "\n",
    "\n",
    "|Basic Description|Source|Variable Name|\n",
    "|:---|:---|:---|\n",
    "|A short back and forth between a therapist and client|[Interpretations of a Counselour in Training](http://counselingexaminer.org/counseling-transcription-interpretations-of-a-counselor-in-training/#more-2487)|ict|\n",
    "|A full therapy session with the therapist's commentary|[Cognitive Behavioral Therapy Transcript](https://www.psychotherapy.net/data/uploads/5113d623c0a74.pdf)|therapy_df|\n",
    "|Examples of irrational and rational thoughts|[Put Together by Yisroel Len](https://docs.google.com/spreadsheets/d/1nbTu0bUTqk0kv-lAE-Yvt4aI8XSbaolIbv9mNpgkCII/edit?usp=sharing)|irt|"
   ]
  },
  {
   "cell_type": "markdown",
   "metadata": {},
   "source": [
    "<table>\n",
    "    <thead style=\"text-align:center\">    \n",
    "        <tr>\n",
    "          <th>Mixed Anxiety Therapy Sessions</th>\n",
    "          <th>Counseling Transcriptions</th>\n",
    "          <th>Irrational Thoughts</th>\n",
    "        </tr>\n",
    "    </thead>\n",
    "        <tr>\n",
    "            <td><img src=\"../Images/mixed_anxiety.png\" width=\"100%\"/></td>\n",
    "            <td><img src=\"../Images/short_session.png\" width=\"100%\"/></td>\n",
    "            <td><img src=\"../Images/Irrational_thoughts.png\" width=\"100%\"/></td>\n",
    "        </tr>\n",
    "</table>"
   ]
  },
  {
   "cell_type": "code",
   "execution_count": 1,
   "metadata": {},
   "outputs": [],
   "source": [
    "import pandas as pd\n",
    "import numpy as np\n",
    "import matplotlib.pyplot as plt\n",
    "import seaborn as sns\n",
    "\n",
    "import regex as re\n",
    "\n",
    "import nltk\n",
    "from nltk.corpus import stopwords\n",
    "from nltk.stem import WordNetLemmatizer\n",
    "from sklearn.feature_extraction.text import CountVectorizer"
   ]
  },
  {
   "cell_type": "markdown",
   "metadata": {},
   "source": [
    "# The Short Transcription"
   ]
  },
  {
   "cell_type": "code",
   "execution_count": 2,
   "metadata": {},
   "outputs": [],
   "source": [
    "# Read in the first dataset\n",
    "ict = pd.read_csv('../Data/Testing_Data/3_Uncleaned_Testing_Data/Example_Therapy_Session_Short.csv')"
   ]
  },
  {
   "cell_type": "code",
   "execution_count": 3,
   "metadata": {},
   "outputs": [
    {
     "data": {
      "text/html": [
       "<div>\n",
       "<style scoped>\n",
       "    .dataframe tbody tr th:only-of-type {\n",
       "        vertical-align: middle;\n",
       "    }\n",
       "\n",
       "    .dataframe tbody tr th {\n",
       "        vertical-align: top;\n",
       "    }\n",
       "\n",
       "    .dataframe thead th {\n",
       "        text-align: right;\n",
       "    }\n",
       "</style>\n",
       "<table border=\"1\" class=\"dataframe\">\n",
       "  <thead>\n",
       "    <tr style=\"text-align: right;\">\n",
       "      <th></th>\n",
       "      <th>Text</th>\n",
       "      <th>Irrational</th>\n",
       "    </tr>\n",
       "  </thead>\n",
       "  <tbody>\n",
       "    <tr>\n",
       "      <th>0</th>\n",
       "      <td>Suzie: So, yesterday I get home after a long d...</td>\n",
       "      <td>0.0</td>\n",
       "    </tr>\n",
       "    <tr>\n",
       "      <th>1</th>\n",
       "      <td>NaN</td>\n",
       "      <td>NaN</td>\n",
       "    </tr>\n",
       "    <tr>\n",
       "      <th>2</th>\n",
       "      <td>Counselor: Wow.</td>\n",
       "      <td>NaN</td>\n",
       "    </tr>\n",
       "    <tr>\n",
       "      <th>3</th>\n",
       "      <td>Suzie: That’s kinda like….. what I was like, I...</td>\n",
       "      <td>0.0</td>\n",
       "    </tr>\n",
       "    <tr>\n",
       "      <th>4</th>\n",
       "      <td>NaN</td>\n",
       "      <td>NaN</td>\n",
       "    </tr>\n",
       "  </tbody>\n",
       "</table>\n",
       "</div>"
      ],
      "text/plain": [
       "                                                Text  Irrational\n",
       "0  Suzie: So, yesterday I get home after a long d...         0.0\n",
       "1                                                NaN         NaN\n",
       "2                                    Counselor: Wow.         NaN\n",
       "3  Suzie: That’s kinda like….. what I was like, I...         0.0\n",
       "4                                                NaN         NaN"
      ]
     },
     "execution_count": 3,
     "metadata": {},
     "output_type": "execute_result"
    }
   ],
   "source": [
    "ict.head()"
   ]
  },
  {
   "cell_type": "markdown",
   "metadata": {},
   "source": [
    "I constructed this data set using google spreadsheets and labeled the columns so I know that any column that contains NaNs we can drop. This will leave us with just the clients sentences."
   ]
  },
  {
   "cell_type": "code",
   "execution_count": 4,
   "metadata": {},
   "outputs": [],
   "source": [
    "ict = ict.dropna()"
   ]
  },
  {
   "cell_type": "markdown",
   "metadata": {},
   "source": [
    "It looks like I forgot one so i'll get rid of it here. We will also clean the data by getting rid of \"Suzie\" at the begining of each sentence."
   ]
  },
  {
   "cell_type": "code",
   "execution_count": 5,
   "metadata": {},
   "outputs": [],
   "source": [
    "ict['Text'] = ict['Text'].map(lambda x: ' '.join([i for i in x.split() if i != 'Suzie:']))"
   ]
  },
  {
   "cell_type": "code",
   "execution_count": 6,
   "metadata": {},
   "outputs": [],
   "source": [
    "ict['Irrational'] = ict['Irrational'].map(lambda x: int(x))"
   ]
  },
  {
   "cell_type": "code",
   "execution_count": 7,
   "metadata": {},
   "outputs": [
    {
     "data": {
      "text/html": [
       "<div>\n",
       "<style scoped>\n",
       "    .dataframe tbody tr th:only-of-type {\n",
       "        vertical-align: middle;\n",
       "    }\n",
       "\n",
       "    .dataframe tbody tr th {\n",
       "        vertical-align: top;\n",
       "    }\n",
       "\n",
       "    .dataframe thead th {\n",
       "        text-align: right;\n",
       "    }\n",
       "</style>\n",
       "<table border=\"1\" class=\"dataframe\">\n",
       "  <thead>\n",
       "    <tr style=\"text-align: right;\">\n",
       "      <th></th>\n",
       "      <th>Text</th>\n",
       "      <th>Irrational</th>\n",
       "    </tr>\n",
       "  </thead>\n",
       "  <tbody>\n",
       "    <tr>\n",
       "      <th>0</th>\n",
       "      <td>So, yesterday I get home after a long day at w...</td>\n",
       "      <td>0</td>\n",
       "    </tr>\n",
       "    <tr>\n",
       "      <th>3</th>\n",
       "      <td>That’s kinda like….. what I was like, I was li...</td>\n",
       "      <td>0</td>\n",
       "    </tr>\n",
       "    <tr>\n",
       "      <th>6</th>\n",
       "      <td>I did. I felt really exited and I was like…. I...</td>\n",
       "      <td>0</td>\n",
       "    </tr>\n",
       "    <tr>\n",
       "      <th>9</th>\n",
       "      <td>And I’m so flattered. I mean it wasn’t that bi...</td>\n",
       "      <td>0</td>\n",
       "    </tr>\n",
       "    <tr>\n",
       "      <th>12</th>\n",
       "      <td>It could have been any guy. It could have been...</td>\n",
       "      <td>0</td>\n",
       "    </tr>\n",
       "  </tbody>\n",
       "</table>\n",
       "</div>"
      ],
      "text/plain": [
       "                                                 Text  Irrational\n",
       "0   So, yesterday I get home after a long day at w...           0\n",
       "3   That’s kinda like….. what I was like, I was li...           0\n",
       "6   I did. I felt really exited and I was like…. I...           0\n",
       "9   And I’m so flattered. I mean it wasn’t that bi...           0\n",
       "12  It could have been any guy. It could have been...           0"
      ]
     },
     "execution_count": 7,
     "metadata": {},
     "output_type": "execute_result"
    }
   ],
   "source": [
    "ict.head()"
   ]
  },
  {
   "cell_type": "markdown",
   "metadata": {},
   "source": [
    "The second data set is a text file which we are going to read, process and transform into a dataframe. So I'm going to need a couple of functions that i've used previously."
   ]
  },
  {
   "cell_type": "code",
   "execution_count": 8,
   "metadata": {},
   "outputs": [],
   "source": [
    "# I'm going to use some of the functions that I used in cleaning the Training data.\n",
    "\n",
    "# Instantiate Lemmatizer.\n",
    "lemmatizer = WordNetLemmatizer()\n",
    "# Create a function to Lemmatize the words in each sentence and remove other unecessary characters.\n",
    "def shorten(value):\n",
    "    value = re.sub(r\"http\\S+\", \"\", value)\n",
    "    value = re.sub(r\"http\", \"\", value)\n",
    "    letters_only = re.sub(\"[^a-zA-Z']\", \" \", value)\n",
    "    return ' '.join([lemmatizer.lemmatize(word) for word in letters_only.lower().split()])\n",
    "\n",
    "def vectorizer2000(X, y, max_features1=None, ngram_range1=(1, 1)):\n",
    "    # Instantiate the vectorizer, and remove some unecessary words\n",
    "    cvec = CountVectorizer(analyzer='word', stop_words='english', max_features=max_features1, ngram_range=ngram_range1)\n",
    "    # Transform the data into something workable\n",
    "    a = cvec.fit_transform(X)\n",
    "\n",
    "    df = pd.DataFrame(a.toarray(), columns= cvec.get_feature_names())\n",
    "\n",
    "    final_df = df.merge(y, how='outer', left_index=True, right_index=True)\n",
    "    return final_df\n",
    "\n",
    "# Function to remove the rows with float\n",
    "def change_to_num(value):\n",
    "    try:\n",
    "        return int(value)\n",
    "    except:\n",
    "        return value\n",
    "    \n",
    "# Plotting functions\n",
    "\n",
    "def pos_plotter(df, target_column, plot_title = 'Negativity Data Set', ylabel_title = 'The Most Commonly Occuring Words', xlabel_title = 'Number of Occurences'):\n",
    "    eda_best = df[df[target_column] == 1].sum().sort_values(ascending=False).head(10)\n",
    "    eda_best.drop(target_column, inplace=True)\n",
    "    eda_best = eda_best[eda_best > 1]\n",
    "    plt.figure(figsize=(8, 6))\n",
    "    sns.barplot(y=eda_best.index, x=eda_best, palette='Reds_r')\n",
    "    plt.title(plot_title,  fontweight='bold', fontsize=25)\n",
    "    plt.ylabel(ylabel_title,  fontweight='bold', fontsize=20)\n",
    "    plt.xlabel(xlabel_title,  fontweight='bold', fontsize=20)\n",
    "    plt.xticks(fontsize=16)\n",
    "    plt.yticks(fontsize=16);\n",
    "    \n",
    "    \n",
    "def neg_plotter(df, target_column, plot_title = 'Positivity Data Set', ylabel_title = 'The Most Commonly Occuring Words', xlabel_title = 'Number of Occurences'):\n",
    "    eda_worst = df[df[target_column] == 0].sum().sort_values(ascending=False).head(10)\n",
    "#     eda_worst.drop(target_column, inplace=True)\n",
    "    eda_worst = eda_worst[eda_worst > 1]\n",
    "    plt.figure(figsize=(8, 6))\n",
    "    sns.barplot(y=eda_worst.index, x=eda_worst, palette='Purples_r')\n",
    "    plt.title(plot_title,  fontweight='bold', fontsize=25)\n",
    "    plt.ylabel(ylabel_title,  fontweight='bold', fontsize=20)\n",
    "    plt.xlabel(xlabel_title,  fontweight='bold', fontsize=20)\n",
    "    plt.xticks(fontsize=16)\n",
    "    plt.yticks(fontsize=16);"
   ]
  },
  {
   "cell_type": "markdown",
   "metadata": {},
   "source": [
    "## The Longer Transcription"
   ]
  },
  {
   "cell_type": "code",
   "execution_count": 9,
   "metadata": {},
   "outputs": [],
   "source": [
    "# Read in the file\n",
    "f = open(\"../Data/Testing_Data/3_Uncleaned_Testing_Data/MixedAnxietyDepressionTesting2.txt\", \"r\")"
   ]
  },
  {
   "cell_type": "code",
   "execution_count": 10,
   "metadata": {},
   "outputs": [],
   "source": [
    "# Turn it into a Variable\n",
    "psy_raw = f.read()"
   ]
  },
  {
   "cell_type": "code",
   "execution_count": 11,
   "metadata": {},
   "outputs": [
    {
     "data": {
      "text/plain": [
       "'Meichenbaum: Anna—is it okay if I call you Anna?\\nAnna: Oh, of course.\\nMeichenbaum Commentary: Anna is 40, the mother of two children:\\nJoseph, 17, and Lizzie, 13. Her husband, Patrick, is a lawyer, and Anna works\\nfor an interior design company. She is referred by her physician because of\\nrecurrent bouts of panic attacks with a history of depression.\\nAnna: Lately I’ve been having these attacks that are keeping me from\\nfunctioning. My heart starts racing. I feel like I’m suffocating, and I just\\nfoc'"
      ]
     },
     "execution_count": 11,
     "metadata": {},
     "output_type": "execute_result"
    }
   ],
   "source": [
    "# Check out what it looks like\n",
    "psy_raw[0:500]"
   ]
  },
  {
   "cell_type": "markdown",
   "metadata": {},
   "source": [
    "We can see that there are newline characters that we have to get rid of so let's do that."
   ]
  },
  {
   "cell_type": "code",
   "execution_count": 12,
   "metadata": {},
   "outputs": [],
   "source": [
    "psy_raw = psy_raw.replace('\\n', \" \")"
   ]
  },
  {
   "cell_type": "markdown",
   "metadata": {},
   "source": [
    "There are two things we have to do here. \n",
    "1) Transform the back and forth between therapist and client into separate strings in a list\n",
    "2) Drop all the non-client strings from the list."
   ]
  },
  {
   "cell_type": "code",
   "execution_count": 13,
   "metadata": {},
   "outputs": [],
   "source": [
    "# create a list based purely by spaces\n",
    "psy_raw_list = psy_raw.split()"
   ]
  },
  {
   "cell_type": "markdown",
   "metadata": {},
   "source": [
    "I want to create a list by splitting on these factors: `Meichenbaum:|Meichenbaum Commentary:|Anna:`. However, this will cause some issues because I will no longer be able to identify who's speaking. So for example if the text looked like this: `Meichenbaum: Anna—is it okay if I call you Anna?\\nAnna: Oh, of course.\\nMeichenbaum Commentary: Anna is 40, the mother of two children:\\nJoseph, 17, and Lizzie, 13.` After splitting it would look like this: `[\"Anna—is it okay if I call you Anna?\\n,\",  \"Oh, of course.\\n\", \"Anna is 40, the mother of two children:\\nJoseph, 17, and Lizzie, 13.\"]`. For some responses it won't be clear who's talking. So first i'm going to create a separate identifying factor that will allow us to split on the factors mentioned in the first sentence of this paragraph and then single out the client's responses."
   ]
  },
  {
   "cell_type": "code",
   "execution_count": 14,
   "metadata": {},
   "outputs": [],
   "source": [
    "# Add an identifying factor to use when we split again which will determine \n",
    "for i, sentence in enumerate(psy_raw_list):\n",
    "    if sentence == 'Meichenbaum:':\n",
    "        psy_raw_list[i] += ' 1'\n",
    "    if sentence == 'Commentary:':\n",
    "        psy_raw_list[i] += ' 2'\n",
    "    if sentence == 'Anna:':\n",
    "        psy_raw_list[i] += ' 3'\n",
    "psy_raw_rejoin = ' '.join(psy_raw_list)"
   ]
  },
  {
   "cell_type": "code",
   "execution_count": 15,
   "metadata": {},
   "outputs": [],
   "source": [
    "# Now we can split on those factors, strip the sentences and remove the empty strings\n",
    "almost_list = [i.strip() for i in re.split('Meichenbaum:|Meichenbaum Commentary:|Anna:',psy_raw_rejoin) if i]\n",
    "# Get rid of the identifying factor \n",
    "final_list = [i[2::] for i in almost_list if i[0] == '3']"
   ]
  },
  {
   "cell_type": "code",
   "execution_count": 16,
   "metadata": {},
   "outputs": [],
   "source": [
    "# Transform into a dataframe\n",
    "therapy_df = pd.DataFrame(final_list, columns =['Text'])"
   ]
  },
  {
   "cell_type": "code",
   "execution_count": 17,
   "metadata": {},
   "outputs": [
    {
     "data": {
      "text/html": [
       "<div>\n",
       "<style scoped>\n",
       "    .dataframe tbody tr th:only-of-type {\n",
       "        vertical-align: middle;\n",
       "    }\n",
       "\n",
       "    .dataframe tbody tr th {\n",
       "        vertical-align: top;\n",
       "    }\n",
       "\n",
       "    .dataframe thead th {\n",
       "        text-align: right;\n",
       "    }\n",
       "</style>\n",
       "<table border=\"1\" class=\"dataframe\">\n",
       "  <thead>\n",
       "    <tr style=\"text-align: right;\">\n",
       "      <th></th>\n",
       "      <th>Text</th>\n",
       "    </tr>\n",
       "  </thead>\n",
       "  <tbody>\n",
       "    <tr>\n",
       "      <th>0</th>\n",
       "      <td>Oh, of course.</td>\n",
       "    </tr>\n",
       "    <tr>\n",
       "      <th>1</th>\n",
       "      <td>Lately I’ve been having these attacks that are...</td>\n",
       "    </tr>\n",
       "    <tr>\n",
       "      <th>2</th>\n",
       "      <td>Well, it becomes a total preoccupation. I can’...</td>\n",
       "    </tr>\n",
       "    <tr>\n",
       "      <th>3</th>\n",
       "      <td>Patrick—that’s my husband—he was late, he lost...</td>\n",
       "    </tr>\n",
       "    <tr>\n",
       "      <th>4</th>\n",
       "      <td>Well, somehow I finally got myself together an...</td>\n",
       "    </tr>\n",
       "  </tbody>\n",
       "</table>\n",
       "</div>"
      ],
      "text/plain": [
       "                                                Text\n",
       "0                                     Oh, of course.\n",
       "1  Lately I’ve been having these attacks that are...\n",
       "2  Well, it becomes a total preoccupation. I can’...\n",
       "3  Patrick—that’s my husband—he was late, he lost...\n",
       "4  Well, somehow I finally got myself together an..."
      ]
     },
     "execution_count": 17,
     "metadata": {},
     "output_type": "execute_result"
    }
   ],
   "source": [
    "therapy_df.head()"
   ]
  },
  {
   "cell_type": "markdown",
   "metadata": {},
   "source": [
    "For this next part i'm going to export the data frame to google spreadsheets and label each sentence manually. Then I'll re-import it as a finished product. \n",
    "If you were wondering why I don't want to train my data on this it's because of how small it is but we CAN test our training data on it."
   ]
  },
  {
   "cell_type": "code",
   "execution_count": 18,
   "metadata": {},
   "outputs": [],
   "source": [
    "therapy_df.to_csv('../data/Testing_Data/4_Cleaned_Testing_Data/Long_Therapy_Session_Unlabeled.csv')"
   ]
  },
  {
   "cell_type": "markdown",
   "metadata": {},
   "source": [
    "### Important Notes\n",
    "\n",
    "1) While labeling the data I decided that even if a sentence contained an irrationality from someone else for example: \"Bob, says that i'm a total failure\" I will mark it as irrational even though the statement is likely true, because it might still be useful to the therapist to recognize that it contains an irrationality.\n",
    "\n",
    "2) I know there is bias here due to the fact that I'm the only one labeling the data. So here's what we'll do to fix that. Since I lack the time right now to grab volunteers to label it, I'll make the following suggestion. Download this dataset and add a new column with your own labels. That's it. That's all you'd have to do. I'll create a function that finds the most commonly \"voted\" label and makes that the final label."
   ]
  },
  {
   "cell_type": "code",
   "execution_count": 19,
   "metadata": {},
   "outputs": [],
   "source": [
    "therapy_df = pd.read_csv('../data/Testing_Data/4_Cleaned_Testing_Data/Long_Therapy_Session_Labeled.csv')"
   ]
  },
  {
   "cell_type": "markdown",
   "metadata": {},
   "source": [
    "## Irrational Thought Examples"
   ]
  },
  {
   "cell_type": "code",
   "execution_count": 20,
   "metadata": {},
   "outputs": [],
   "source": [
    "irt = pd.read_csv('../data/Testing_Data/3_Uncleaned_Testing_Data/CognitiveDistortions.csv')"
   ]
  },
  {
   "cell_type": "code",
   "execution_count": 21,
   "metadata": {},
   "outputs": [
    {
     "data": {
      "text/html": [
       "<div>\n",
       "<style scoped>\n",
       "    .dataframe tbody tr th:only-of-type {\n",
       "        vertical-align: middle;\n",
       "    }\n",
       "\n",
       "    .dataframe tbody tr th {\n",
       "        vertical-align: top;\n",
       "    }\n",
       "\n",
       "    .dataframe thead th {\n",
       "        text-align: right;\n",
       "    }\n",
       "</style>\n",
       "<table border=\"1\" class=\"dataframe\">\n",
       "  <thead>\n",
       "    <tr style=\"text-align: right;\">\n",
       "      <th></th>\n",
       "      <th>Distorted Thoughts</th>\n",
       "      <th>Irrational</th>\n",
       "    </tr>\n",
       "  </thead>\n",
       "  <tbody>\n",
       "    <tr>\n",
       "      <th>0</th>\n",
       "      <td>I’m no good at sports; I just can’t do anything</td>\n",
       "      <td>1</td>\n",
       "    </tr>\n",
       "    <tr>\n",
       "      <th>1</th>\n",
       "      <td>“I have a zit on my nose; now I’m ugly; everyo...</td>\n",
       "      <td>1</td>\n",
       "    </tr>\n",
       "    <tr>\n",
       "      <th>2</th>\n",
       "      <td>“I passed because it was so easy</td>\n",
       "      <td>1</td>\n",
       "    </tr>\n",
       "    <tr>\n",
       "      <th>3</th>\n",
       "      <td>“I bet everyone is laughing at me</td>\n",
       "      <td>1</td>\n",
       "    </tr>\n",
       "    <tr>\n",
       "      <th>4</th>\n",
       "      <td>know I’m not going to be able to do this work</td>\n",
       "      <td>1</td>\n",
       "    </tr>\n",
       "  </tbody>\n",
       "</table>\n",
       "</div>"
      ],
      "text/plain": [
       "                                  Distorted Thoughts  Irrational\n",
       "0    I’m no good at sports; I just can’t do anything           1\n",
       "1  “I have a zit on my nose; now I’m ugly; everyo...           1\n",
       "2                   “I passed because it was so easy           1\n",
       "3                  “I bet everyone is laughing at me           1\n",
       "4      know I’m not going to be able to do this work           1"
      ]
     },
     "execution_count": 21,
     "metadata": {},
     "output_type": "execute_result"
    }
   ],
   "source": [
    "irt.head()"
   ]
  },
  {
   "cell_type": "code",
   "execution_count": 22,
   "metadata": {},
   "outputs": [
    {
     "data": {
      "text/html": [
       "<div>\n",
       "<style scoped>\n",
       "    .dataframe tbody tr th:only-of-type {\n",
       "        vertical-align: middle;\n",
       "    }\n",
       "\n",
       "    .dataframe tbody tr th {\n",
       "        vertical-align: top;\n",
       "    }\n",
       "\n",
       "    .dataframe thead th {\n",
       "        text-align: right;\n",
       "    }\n",
       "</style>\n",
       "<table border=\"1\" class=\"dataframe\">\n",
       "  <thead>\n",
       "    <tr style=\"text-align: right;\">\n",
       "      <th></th>\n",
       "      <th>Text</th>\n",
       "      <th>Irrational</th>\n",
       "    </tr>\n",
       "  </thead>\n",
       "  <tbody>\n",
       "    <tr>\n",
       "      <th>0</th>\n",
       "      <td>I’m no good at sports; I just can’t do anything</td>\n",
       "      <td>1</td>\n",
       "    </tr>\n",
       "    <tr>\n",
       "      <th>1</th>\n",
       "      <td>“I have a zit on my nose; now I’m ugly; everyo...</td>\n",
       "      <td>1</td>\n",
       "    </tr>\n",
       "    <tr>\n",
       "      <th>2</th>\n",
       "      <td>“I passed because it was so easy</td>\n",
       "      <td>1</td>\n",
       "    </tr>\n",
       "    <tr>\n",
       "      <th>3</th>\n",
       "      <td>“I bet everyone is laughing at me</td>\n",
       "      <td>1</td>\n",
       "    </tr>\n",
       "    <tr>\n",
       "      <th>4</th>\n",
       "      <td>know I’m not going to be able to do this work</td>\n",
       "      <td>1</td>\n",
       "    </tr>\n",
       "  </tbody>\n",
       "</table>\n",
       "</div>"
      ],
      "text/plain": [
       "                                                Text  Irrational\n",
       "0    I’m no good at sports; I just can’t do anything           1\n",
       "1  “I have a zit on my nose; now I’m ugly; everyo...           1\n",
       "2                   “I passed because it was so easy           1\n",
       "3                  “I bet everyone is laughing at me           1\n",
       "4      know I’m not going to be able to do this work           1"
      ]
     },
     "execution_count": 22,
     "metadata": {},
     "output_type": "execute_result"
    }
   ],
   "source": [
    "# Rename columns in order to concatenate\n",
    "irt = irt.rename(columns = {'Distorted Thoughts': 'Text'})\n",
    "# confirm that it worked\n",
    "irt.head()"
   ]
  },
  {
   "cell_type": "markdown",
   "metadata": {},
   "source": [
    "Let's put the previous datasets together with this one. They are examples of therapy sessions and other possible irrational thoughts that should work fine as testing data. Then we will do the basic cleaning."
   ]
  },
  {
   "cell_type": "code",
   "execution_count": 23,
   "metadata": {},
   "outputs": [
    {
     "data": {
      "text/html": [
       "<div>\n",
       "<style scoped>\n",
       "    .dataframe tbody tr th:only-of-type {\n",
       "        vertical-align: middle;\n",
       "    }\n",
       "\n",
       "    .dataframe tbody tr th {\n",
       "        vertical-align: top;\n",
       "    }\n",
       "\n",
       "    .dataframe thead th {\n",
       "        text-align: right;\n",
       "    }\n",
       "</style>\n",
       "<table border=\"1\" class=\"dataframe\">\n",
       "  <thead>\n",
       "    <tr style=\"text-align: right;\">\n",
       "      <th></th>\n",
       "      <th>Text</th>\n",
       "      <th>Irrational</th>\n",
       "    </tr>\n",
       "  </thead>\n",
       "  <tbody>\n",
       "    <tr>\n",
       "      <th>0</th>\n",
       "      <td>Oh, of course.</td>\n",
       "      <td>0</td>\n",
       "    </tr>\n",
       "    <tr>\n",
       "      <th>1</th>\n",
       "      <td>Lately I’ve been having these attacks that are...</td>\n",
       "      <td>0</td>\n",
       "    </tr>\n",
       "    <tr>\n",
       "      <th>2</th>\n",
       "      <td>Well, it becomes a total preoccupation. I can’...</td>\n",
       "      <td>1</td>\n",
       "    </tr>\n",
       "    <tr>\n",
       "      <th>3</th>\n",
       "      <td>Patrick—that’s my husband—he was late, he lost...</td>\n",
       "      <td>1</td>\n",
       "    </tr>\n",
       "    <tr>\n",
       "      <th>4</th>\n",
       "      <td>Well, somehow I finally got myself together an...</td>\n",
       "      <td>1</td>\n",
       "    </tr>\n",
       "  </tbody>\n",
       "</table>\n",
       "</div>"
      ],
      "text/plain": [
       "                                                Text  Irrational\n",
       "0                                     Oh, of course.           0\n",
       "1  Lately I’ve been having these attacks that are...           0\n",
       "2  Well, it becomes a total preoccupation. I can’...           1\n",
       "3  Patrick—that’s my husband—he was late, he lost...           1\n",
       "4  Well, somehow I finally got myself together an...           1"
      ]
     },
     "execution_count": 23,
     "metadata": {},
     "output_type": "execute_result"
    }
   ],
   "source": [
    "final_df = pd.concat([therapy_df, ict, irt])\n",
    "final_df.head()"
   ]
  },
  {
   "cell_type": "code",
   "execution_count": 40,
   "metadata": {
    "scrolled": true
   },
   "outputs": [
    {
     "name": "stdout",
     "output_type": "stream",
     "text": [
      "(178, 2)\n",
      "(21, 2)\n",
      "(283, 2)\n",
      "(482, 2)\n"
     ]
    }
   ],
   "source": [
    "# confirm that it worked\n",
    "print(therapy_df.shape)\n",
    "print(ict.shape)\n",
    "print(irt.shape)\n",
    "print(final_df.shape)"
   ]
  },
  {
   "cell_type": "code",
   "execution_count": 24,
   "metadata": {},
   "outputs": [],
   "source": [
    "# Basic cleaning\n",
    "final_df['Text'] = final_df['Text'].apply(shorten)"
   ]
  },
  {
   "cell_type": "code",
   "execution_count": 25,
   "metadata": {},
   "outputs": [],
   "source": [
    "# Save the final testing data \n",
    "final_df.to_csv('../data/Testing_Data/4_Cleaned_Testing_Data/Final_Testing_Data.csv')"
   ]
  },
  {
   "cell_type": "code",
   "execution_count": 26,
   "metadata": {},
   "outputs": [],
   "source": [
    "X = final_df['Text']\n",
    "y = final_df[['Irrational']]"
   ]
  },
  {
   "cell_type": "code",
   "execution_count": 27,
   "metadata": {},
   "outputs": [],
   "source": [
    "final_df_cv = vectorizer2000(X, y, 5000, (2, 2))"
   ]
  },
  {
   "cell_type": "code",
   "execution_count": 39,
   "metadata": {},
   "outputs": [
    {
     "data": {
      "image/png": "[encoded data removed]",
      "text/plain": [
       "<Figure size 576x432 with 1 Axes>"
      ]
     },
     "metadata": {
      "needs_background": "light"
     },
     "output_type": "display_data"
    }
   ],
   "source": [
    "pos_plotter(final_df_cv, 'Irrational', 'Irrational Data')"
   ]
  },
  {
   "cell_type": "code",
   "execution_count": 37,
   "metadata": {},
   "outputs": [
    {
     "data": {
      "image/png": "[encoded data removed]",
      "text/plain": [
       "<Figure size 576x432 with 1 Axes>"
      ]
     },
     "metadata": {
      "needs_background": "light"
     },
     "output_type": "display_data"
    }
   ],
   "source": [
    "neg_plotter(final_df_cv, 'Irrational', 'Rational Data')"
   ]
  },
  {
   "cell_type": "code",
   "execution_count": 36,
   "metadata": {},
   "outputs": [
    {
     "data": {
      "image/png": "[encoded data removed]",
      "text/plain": [
       "<Figure size 576x432 with 1 Axes>"
      ]
     },
     "metadata": {
      "needs_background": "light"
     },
     "output_type": "display_data"
    }
   ],
   "source": [
    "final_df_cv = vectorizer2000(X, y, 5000, (1, 1))\n",
    "\n",
    "pos_plotter(final_df_cv, 'Irrational', 'Irrational Data')"
   ]
  },
  {
   "cell_type": "code",
   "execution_count": 38,
   "metadata": {},
   "outputs": [
    {
     "data": {
      "image/png": "[encoded data removed]",
      "text/plain": [
       "<Figure size 576x432 with 1 Axes>"
      ]
     },
     "metadata": {
      "needs_background": "light"
     },
     "output_type": "display_data"
    }
   ],
   "source": [
    "neg_plotter(final_df_cv, 'Irrational', 'Rational Data')"
   ]
  }
 ],
 "metadata": {
  "kernelspec": {
   "display_name": "Python 3",
   "language": "python",
   "name": "python3"
  },
  "language_info": {
   "codemirror_mode": {
    "name": "ipython",
    "version": 3
   },
   "file_extension": ".py",
   "mimetype": "text/x-python",
   "name": "python",
   "nbconvert_exporter": "python",
   "pygments_lexer": "ipython3",
   "version": "3.7.4"
  },
  "varInspector": {
   "cols": {
    "lenName": 16,
    "lenType": 16,
    "lenVar": 40
   },
   "kernels_config": {
    "python": {
     "delete_cmd_postfix": "",
     "delete_cmd_prefix": "del ",
     "library": "var_list.py",
     "varRefreshCmd": "print(var_dic_list())"
    },
    "r": {
     "delete_cmd_postfix": ") ",
     "delete_cmd_prefix": "rm(",
     "library": "var_list.r",
     "varRefreshCmd": "cat(var_dic_list()) "
    }
   },
   "types_to_exclude": [
    "module",
    "function",
    "builtin_function_or_method",
    "instance",
    "_Feature"
   ],
   "window_display": false
  }
 },
 "nbformat": 4,
 "nbformat_minor": 2
}
