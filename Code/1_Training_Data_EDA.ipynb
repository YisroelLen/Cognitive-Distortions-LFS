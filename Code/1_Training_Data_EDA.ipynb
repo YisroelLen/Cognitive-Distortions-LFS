{
 "cells": [
  {
   "cell_type": "markdown",
   "metadata": {},
   "source": [
    "# Training Data Exploratory Analysis\n",
    "\n",
    "## Notebook Goal\n",
    "\n",
    "We want to examine the various datasets that were gathered to help determine their potential for our overall goal. Just to be clear we are attempting to find data that will best help determine the irrational statements made by a client in a therapy session. This problem might be a difficult one to solve due to the limitations of the datasets that we have put together but more on that as we go along. There will also be some more information as we examine each dataset about its source and how it was put together.\n",
    "\n",
    "\n",
    "## Table of Contents\n",
    "\n",
    "- **Data Information**\n",
    "    - [Source Links](#The-DataSets-and-their-relative-sources-are-as-follows)\n",
    "    - [Variable Key](#DataSet-Variable-Keys)\n",
    "\n",
    "- **EDA**\n",
    "    - [Positive and Negative Sentences](#Positive-and-Negative-Sentences)\n",
    "    - [A Million Tweets](#A-Million-Tweets)\n",
    "    - [Data World Emotion Classifier](#Data-World-Emotion-Classifier)\n",
    "    - [The Other Emotion Classifier](#The-Other-Emotion-Classifier)\n",
    "    - [Word Based Emotion Classification](#Word-Based-Emotion-Classification)"
   ]
  },
  {
   "cell_type": "markdown",
   "metadata": {},
   "source": [
    "**The DataSets and their relative sources are as follows:** \n",
    "\n",
    "|Basic Description|Source|\n",
    "|:---|:---|\n",
    "|Positive and Negative sentences. |[Kaggle Positive and Negative Sentences](https://www.kaggle.com/chaitanyarahalkar/positive-and-negative-sentences)|\n",
    "|1,600,000 tweets examined based on emoticons on a negative-positive scale of 0-4. |[Tweet Emoticon Emotional Classifier](https://www.kaggle.com/kazanova/sentiment140)|\n",
    "|An emotional analysis dataset that was gathered manually.|[Sentiment Analysis: Emotion in Text from DataWorld](https://data.world/crowdflower/sentiment-analysis-in-text)|\n",
    "|A second emotional analysis dataset. |[Emotion Classification](https://www.kaggle.com/eray1yildiz/emotion-classification)|\n",
    "|An emotional analysis based on words. |[Word Based Emotion Classification](https://www.kaggle.com/iwilldoit/emotions-sensor-data-set)|"
   ]
  },
  {
   "cell_type": "code",
   "execution_count": 3,
   "metadata": {},
   "outputs": [],
   "source": [
    "# Do our basic imports\n",
    "import pandas as pd\n",
    "import numpy as np\n",
    "import matplotlib.pyplot as plt\n",
    "import seaborn as sns\n",
    "\n",
    "import regex as re\n",
    "\n",
    "import nltk\n",
    "from nltk.corpus import stopwords\n",
    "from nltk.stem import WordNetLemmatizer\n",
    "from sklearn.feature_extraction.text import CountVectorizer"
   ]
  },
  {
   "cell_type": "markdown",
   "metadata": {},
   "source": [
    "Let's read in all our data now and examine them one by one. <br>\n",
    "Here is a key for the variables that I will be using for each data set.\n",
    "#### DataSet Variable Keys\n",
    "|Variable Name|Corresponding Dataset|\n",
    "|:---|:---|\n",
    "| **pos_neg_sen**   |     Positive and Negative sentences (I'm going to have to combine two datasets for this one).|\n",
    "| **mil_tweets**    |     1,600,000 tweets examined based on emoticons on a negative-positive scale of 0-4.|\n",
    "| **six_emotions**   |     An emotional analysis dataset that was gathered manually.|\n",
    "| **word_emotions**   |     An emotional analysis based on words.|\n",
    "| **twelve_emotions**  |     A second emotional analysis dataset.|"
   ]
  },
  {
   "cell_type": "code",
   "execution_count": 6,
   "metadata": {},
   "outputs": [],
   "source": [
    "# The two datasets that I will combine into one\n",
    "neg_sent = pd.read_csv('../data/Training_Data/1_Uncleaned_Training_Data/Negative_Sentences.csv', )\n",
    "pos_sent = pd.read_csv('../data/Training_Data/1_Uncleaned_Training_Data/Positive_Sentences.csv')\n",
    "# The rest of our datasets.\n",
    "mill_tweets = pd.read_csv('../data/Training_Data/1_Uncleaned_Training_Data/training.1600000.processed.noemoticon.csv', encoding = \"ISO-8859-1\")\n",
    "twelve_emotions = pd.read_csv('../data/Training_Data/1_Uncleaned_Training_Data/text_emotion.csv')\n",
    "word_emotions = pd.read_csv('../data/Training_Data/1_Uncleaned_Training_Data/Andbrain_DataSet.csv')\n",
    "six_emotions = pd.read_csv('../data/Training_Data/1_Uncleaned_Training_Data/emotion.data')"
   ]
  },
  {
   "cell_type": "markdown",
   "metadata": {},
   "source": [
    "## Positive and Negative Sentences\n",
    "We'll examine the first dataset here. So we'll give you a little background on what it could potentially accomplish as well as how the data was gathered. \n",
    "\n",
    "Since the overall goal is to find the irrational aspects of a clients thinking through what was said in a session, the best case scenario would be to have data that properly differentiates between irrational and rational thinking. However, despite an exhaustive amount of searching we could not find one (If you have any ideas let me know). So with a background knowledge of cognitive behavioral therapy - which is a personal area of interest - we searched for a dataset that would help identify negativity, knowing that negativity generally equals greater irrationality.\n",
    "\n",
    "This dataset was found on the popular dataset website, [Kaggle: Positive and Negative Sentences](https://www.kaggle.com/chaitanyarahalkar/positive-and-negative-sentences). Unfortunately, there wasn't much information on how the dataset was put together. It came in two separate `.txt` documents which we simply put into two .csv files so let's check em out."
   ]
  },
  {
   "cell_type": "code",
   "execution_count": 7,
   "metadata": {
    "scrolled": true
   },
   "outputs": [
    {
     "data": {
      "text/html": [
       "<div>\n",
       "<style scoped>\n",
       "    .dataframe tbody tr th:only-of-type {\n",
       "        vertical-align: middle;\n",
       "    }\n",
       "\n",
       "    .dataframe tbody tr th {\n",
       "        vertical-align: top;\n",
       "    }\n",
       "\n",
       "    .dataframe thead th {\n",
       "        text-align: right;\n",
       "    }\n",
       "</style>\n",
       "<table border=\"1\" class=\"dataframe\">\n",
       "  <thead>\n",
       "    <tr style=\"text-align: right;\">\n",
       "      <th></th>\n",
       "      <th>Sentences</th>\n",
       "    </tr>\n",
       "  </thead>\n",
       "  <tbody>\n",
       "    <tr>\n",
       "      <th>0</th>\n",
       "      <td>simplistic , silly and tedious .</td>\n",
       "    </tr>\n",
       "    <tr>\n",
       "      <th>1</th>\n",
       "      <td>it's so laddish and juvenile , only teenage bo...</td>\n",
       "    </tr>\n",
       "    <tr>\n",
       "      <th>2</th>\n",
       "      <td>exploitative and largely devoid of the depth o...</td>\n",
       "    </tr>\n",
       "    <tr>\n",
       "      <th>3</th>\n",
       "      <td>[garbus] discards the potential for pathologic...</td>\n",
       "    </tr>\n",
       "    <tr>\n",
       "      <th>4</th>\n",
       "      <td>a visually flashy but narratively opaque and e...</td>\n",
       "    </tr>\n",
       "  </tbody>\n",
       "</table>\n",
       "</div>"
      ],
      "text/plain": [
       "                                           Sentences\n",
       "0                   simplistic , silly and tedious .\n",
       "1  it's so laddish and juvenile , only teenage bo...\n",
       "2  exploitative and largely devoid of the depth o...\n",
       "3  [garbus] discards the potential for pathologic...\n",
       "4  a visually flashy but narratively opaque and e..."
      ]
     },
     "execution_count": 7,
     "metadata": {},
     "output_type": "execute_result"
    }
   ],
   "source": [
    "neg_sent.head()"
   ]
  },
  {
   "cell_type": "markdown",
   "metadata": {},
   "source": [
    "Okay so the first thing we can see here is that there's no label column so let's add that in.\n",
    "Since we're mainly looking for negativity, a `1` will represent the negative class."
   ]
  },
  {
   "cell_type": "code",
   "execution_count": 8,
   "metadata": {},
   "outputs": [
    {
     "data": {
      "text/html": [
       "<div>\n",
       "<style scoped>\n",
       "    .dataframe tbody tr th:only-of-type {\n",
       "        vertical-align: middle;\n",
       "    }\n",
       "\n",
       "    .dataframe tbody tr th {\n",
       "        vertical-align: top;\n",
       "    }\n",
       "\n",
       "    .dataframe thead th {\n",
       "        text-align: right;\n",
       "    }\n",
       "</style>\n",
       "<table border=\"1\" class=\"dataframe\">\n",
       "  <thead>\n",
       "    <tr style=\"text-align: right;\">\n",
       "      <th></th>\n",
       "      <th>Sentences</th>\n",
       "      <th>Negativity</th>\n",
       "    </tr>\n",
       "  </thead>\n",
       "  <tbody>\n",
       "    <tr>\n",
       "      <th>0</th>\n",
       "      <td>simplistic , silly and tedious .</td>\n",
       "      <td>1</td>\n",
       "    </tr>\n",
       "    <tr>\n",
       "      <th>1</th>\n",
       "      <td>it's so laddish and juvenile , only teenage bo...</td>\n",
       "      <td>1</td>\n",
       "    </tr>\n",
       "    <tr>\n",
       "      <th>2</th>\n",
       "      <td>exploitative and largely devoid of the depth o...</td>\n",
       "      <td>1</td>\n",
       "    </tr>\n",
       "    <tr>\n",
       "      <th>3</th>\n",
       "      <td>[garbus] discards the potential for pathologic...</td>\n",
       "      <td>1</td>\n",
       "    </tr>\n",
       "    <tr>\n",
       "      <th>4</th>\n",
       "      <td>a visually flashy but narratively opaque and e...</td>\n",
       "      <td>1</td>\n",
       "    </tr>\n",
       "  </tbody>\n",
       "</table>\n",
       "</div>"
      ],
      "text/plain": [
       "                                           Sentences  Negativity\n",
       "0                   simplistic , silly and tedious .           1\n",
       "1  it's so laddish and juvenile , only teenage bo...           1\n",
       "2  exploitative and largely devoid of the depth o...           1\n",
       "3  [garbus] discards the potential for pathologic...           1\n",
       "4  a visually flashy but narratively opaque and e...           1"
      ]
     },
     "execution_count": 8,
     "metadata": {},
     "output_type": "execute_result"
    }
   ],
   "source": [
    "neg_sent['Negativity'] = 1\n",
    "neg_sent.head()"
   ]
  },
  {
   "cell_type": "code",
   "execution_count": 9,
   "metadata": {},
   "outputs": [
    {
     "data": {
      "text/plain": [
       "0"
      ]
     },
     "execution_count": 9,
     "metadata": {},
     "output_type": "execute_result"
    }
   ],
   "source": [
    "# Any null values?\n",
    "neg_sent.isnull().sum().sum()"
   ]
  },
  {
   "cell_type": "markdown",
   "metadata": {},
   "source": [
    "The data seems pretty clean so let's grab the twin dataset and put the family together."
   ]
  },
  {
   "cell_type": "code",
   "execution_count": 10,
   "metadata": {},
   "outputs": [
    {
     "data": {
      "text/html": [
       "<div>\n",
       "<style scoped>\n",
       "    .dataframe tbody tr th:only-of-type {\n",
       "        vertical-align: middle;\n",
       "    }\n",
       "\n",
       "    .dataframe tbody tr th {\n",
       "        vertical-align: top;\n",
       "    }\n",
       "\n",
       "    .dataframe thead th {\n",
       "        text-align: right;\n",
       "    }\n",
       "</style>\n",
       "<table border=\"1\" class=\"dataframe\">\n",
       "  <thead>\n",
       "    <tr style=\"text-align: right;\">\n",
       "      <th></th>\n",
       "      <th>Sentences</th>\n",
       "    </tr>\n",
       "  </thead>\n",
       "  <tbody>\n",
       "    <tr>\n",
       "      <th>0</th>\n",
       "      <td>the rock is destined to be the 21st century's ...</td>\n",
       "    </tr>\n",
       "    <tr>\n",
       "      <th>1</th>\n",
       "      <td>the gorgeously elaborate continuation of \" the...</td>\n",
       "    </tr>\n",
       "    <tr>\n",
       "      <th>2</th>\n",
       "      <td>effective but too tepid biopic</td>\n",
       "    </tr>\n",
       "    <tr>\n",
       "      <th>3</th>\n",
       "      <td>if you sometimes like to go to the movies to h...</td>\n",
       "    </tr>\n",
       "    <tr>\n",
       "      <th>4</th>\n",
       "      <td>emerges as something rare , an issue movie tha...</td>\n",
       "    </tr>\n",
       "  </tbody>\n",
       "</table>\n",
       "</div>"
      ],
      "text/plain": [
       "                                           Sentences\n",
       "0  the rock is destined to be the 21st century's ...\n",
       "1  the gorgeously elaborate continuation of \" the...\n",
       "2                     effective but too tepid biopic\n",
       "3  if you sometimes like to go to the movies to h...\n",
       "4  emerges as something rare , an issue movie tha..."
      ]
     },
     "execution_count": 10,
     "metadata": {},
     "output_type": "execute_result"
    }
   ],
   "source": [
    "pos_sent.head()"
   ]
  },
  {
   "cell_type": "code",
   "execution_count": 11,
   "metadata": {
    "scrolled": true
   },
   "outputs": [
    {
     "data": {
      "text/html": [
       "<div>\n",
       "<style scoped>\n",
       "    .dataframe tbody tr th:only-of-type {\n",
       "        vertical-align: middle;\n",
       "    }\n",
       "\n",
       "    .dataframe tbody tr th {\n",
       "        vertical-align: top;\n",
       "    }\n",
       "\n",
       "    .dataframe thead th {\n",
       "        text-align: right;\n",
       "    }\n",
       "</style>\n",
       "<table border=\"1\" class=\"dataframe\">\n",
       "  <thead>\n",
       "    <tr style=\"text-align: right;\">\n",
       "      <th></th>\n",
       "      <th>Sentences</th>\n",
       "      <th>Negativity</th>\n",
       "    </tr>\n",
       "  </thead>\n",
       "  <tbody>\n",
       "    <tr>\n",
       "      <th>0</th>\n",
       "      <td>the rock is destined to be the 21st century's ...</td>\n",
       "      <td>0</td>\n",
       "    </tr>\n",
       "    <tr>\n",
       "      <th>1</th>\n",
       "      <td>the gorgeously elaborate continuation of \" the...</td>\n",
       "      <td>0</td>\n",
       "    </tr>\n",
       "    <tr>\n",
       "      <th>2</th>\n",
       "      <td>effective but too tepid biopic</td>\n",
       "      <td>0</td>\n",
       "    </tr>\n",
       "    <tr>\n",
       "      <th>3</th>\n",
       "      <td>if you sometimes like to go to the movies to h...</td>\n",
       "      <td>0</td>\n",
       "    </tr>\n",
       "    <tr>\n",
       "      <th>4</th>\n",
       "      <td>emerges as something rare , an issue movie tha...</td>\n",
       "      <td>0</td>\n",
       "    </tr>\n",
       "  </tbody>\n",
       "</table>\n",
       "</div>"
      ],
      "text/plain": [
       "                                           Sentences  Negativity\n",
       "0  the rock is destined to be the 21st century's ...           0\n",
       "1  the gorgeously elaborate continuation of \" the...           0\n",
       "2                     effective but too tepid biopic           0\n",
       "3  if you sometimes like to go to the movies to h...           0\n",
       "4  emerges as something rare , an issue movie tha...           0"
      ]
     },
     "execution_count": 11,
     "metadata": {},
     "output_type": "execute_result"
    }
   ],
   "source": [
    "pos_sent['Negativity'] = 0\n",
    "pos_sent.head()"
   ]
  },
  {
   "cell_type": "code",
   "execution_count": 12,
   "metadata": {
    "scrolled": true
   },
   "outputs": [
    {
     "data": {
      "text/html": [
       "<div>\n",
       "<style scoped>\n",
       "    .dataframe tbody tr th:only-of-type {\n",
       "        vertical-align: middle;\n",
       "    }\n",
       "\n",
       "    .dataframe tbody tr th {\n",
       "        vertical-align: top;\n",
       "    }\n",
       "\n",
       "    .dataframe thead th {\n",
       "        text-align: right;\n",
       "    }\n",
       "</style>\n",
       "<table border=\"1\" class=\"dataframe\">\n",
       "  <thead>\n",
       "    <tr style=\"text-align: right;\">\n",
       "      <th></th>\n",
       "      <th>Sentences</th>\n",
       "      <th>Negativity</th>\n",
       "    </tr>\n",
       "  </thead>\n",
       "  <tbody>\n",
       "    <tr>\n",
       "      <th>0</th>\n",
       "      <td>simplistic , silly and tedious .</td>\n",
       "      <td>1</td>\n",
       "    </tr>\n",
       "    <tr>\n",
       "      <th>1</th>\n",
       "      <td>it's so laddish and juvenile , only teenage bo...</td>\n",
       "      <td>1</td>\n",
       "    </tr>\n",
       "    <tr>\n",
       "      <th>2</th>\n",
       "      <td>exploitative and largely devoid of the depth o...</td>\n",
       "      <td>1</td>\n",
       "    </tr>\n",
       "    <tr>\n",
       "      <th>3</th>\n",
       "      <td>[garbus] discards the potential for pathologic...</td>\n",
       "      <td>1</td>\n",
       "    </tr>\n",
       "    <tr>\n",
       "      <th>4</th>\n",
       "      <td>a visually flashy but narratively opaque and e...</td>\n",
       "      <td>1</td>\n",
       "    </tr>\n",
       "  </tbody>\n",
       "</table>\n",
       "</div>"
      ],
      "text/plain": [
       "                                           Sentences  Negativity\n",
       "0                   simplistic , silly and tedious .           1\n",
       "1  it's so laddish and juvenile , only teenage bo...           1\n",
       "2  exploitative and largely devoid of the depth o...           1\n",
       "3  [garbus] discards the potential for pathologic...           1\n",
       "4  a visually flashy but narratively opaque and e...           1"
      ]
     },
     "execution_count": 12,
     "metadata": {},
     "output_type": "execute_result"
    }
   ],
   "source": [
    "# Put them together and check to make sure it worked.\n",
    "pos_neg_sent  = pd.concat([neg_sent, pos_sent], ignore_index=False)\n",
    "pos_neg_sent.head()"
   ]
  },
  {
   "cell_type": "code",
   "execution_count": 13,
   "metadata": {},
   "outputs": [
    {
     "data": {
      "text/html": [
       "<div>\n",
       "<style scoped>\n",
       "    .dataframe tbody tr th:only-of-type {\n",
       "        vertical-align: middle;\n",
       "    }\n",
       "\n",
       "    .dataframe tbody tr th {\n",
       "        vertical-align: top;\n",
       "    }\n",
       "\n",
       "    .dataframe thead th {\n",
       "        text-align: right;\n",
       "    }\n",
       "</style>\n",
       "<table border=\"1\" class=\"dataframe\">\n",
       "  <thead>\n",
       "    <tr style=\"text-align: right;\">\n",
       "      <th></th>\n",
       "      <th>Sentences</th>\n",
       "      <th>Negativity</th>\n",
       "    </tr>\n",
       "  </thead>\n",
       "  <tbody>\n",
       "    <tr>\n",
       "      <th>5326</th>\n",
       "      <td>both exuberantly romantic and serenely melanch...</td>\n",
       "      <td>0</td>\n",
       "    </tr>\n",
       "    <tr>\n",
       "      <th>5327</th>\n",
       "      <td>mazel tov to a film about a family's joyous li...</td>\n",
       "      <td>0</td>\n",
       "    </tr>\n",
       "    <tr>\n",
       "      <th>5328</th>\n",
       "      <td>standing in the shadows of motown is the best ...</td>\n",
       "      <td>0</td>\n",
       "    </tr>\n",
       "    <tr>\n",
       "      <th>5329</th>\n",
       "      <td>it's nice to see piscopo again after all these...</td>\n",
       "      <td>0</td>\n",
       "    </tr>\n",
       "    <tr>\n",
       "      <th>5330</th>\n",
       "      <td>provides a porthole into that noble , tremblin...</td>\n",
       "      <td>0</td>\n",
       "    </tr>\n",
       "  </tbody>\n",
       "</table>\n",
       "</div>"
      ],
      "text/plain": [
       "                                              Sentences  Negativity\n",
       "5326  both exuberantly romantic and serenely melanch...           0\n",
       "5327  mazel tov to a film about a family's joyous li...           0\n",
       "5328  standing in the shadows of motown is the best ...           0\n",
       "5329  it's nice to see piscopo again after all these...           0\n",
       "5330  provides a porthole into that noble , tremblin...           0"
      ]
     },
     "execution_count": 13,
     "metadata": {},
     "output_type": "execute_result"
    }
   ],
   "source": [
    "# check the end of the data set\n",
    "pos_neg_sent.tail()"
   ]
  },
  {
   "cell_type": "markdown",
   "metadata": {},
   "source": [
    "Now that we have a completed dataset let's see what we got underneath the hood.\n",
    "There's a function that we are going to use quite a bit as we go along so let's put it here."
   ]
  },
  {
   "cell_type": "code",
   "execution_count": 14,
   "metadata": {},
   "outputs": [],
   "source": [
    "# Instantiate Lemmatizer.\n",
    "lemmatizer = WordNetLemmatizer()\n",
    "# Create a function to Lemmatize the words in each sentence and remove other unecessary characters.\n",
    "def shorten(value):\n",
    "    value = re.sub(r\"http\\S+\", \"\", value) # Remove urls\n",
    "    value = re.sub(r\"http\", \"\", value)\n",
    "    letters_only = re.sub(\"[^a-zA-Z']\", \" \", value)\n",
    "    return ' '.join([lemmatizer.lemmatize(word) for word in letters_only.lower().split()])"
   ]
  },
  {
   "cell_type": "markdown",
   "metadata": {},
   "source": [
    "Now the reason we want to lemmatize is to help shorten the plural words and get a more precise idea of what words are occurring in our dataset. For example, words like, \"bananas\" will become \"banana\" (Random example, I know) while any word \"banana\" from before, will remain the same."
   ]
  },
  {
   "cell_type": "code",
   "execution_count": 15,
   "metadata": {},
   "outputs": [],
   "source": [
    "# Lemmatizer function applied\n",
    "pos_neg_sent['Sentences'] = pos_neg_sent['Sentences'].apply(shorten)"
   ]
  },
  {
   "cell_type": "code",
   "execution_count": 16,
   "metadata": {},
   "outputs": [
    {
     "data": {
      "text/plain": [
       "(10662, 2)"
      ]
     },
     "execution_count": 16,
     "metadata": {},
     "output_type": "execute_result"
    }
   ],
   "source": [
    "pos_neg_sent.shape"
   ]
  },
  {
   "cell_type": "markdown",
   "metadata": {},
   "source": [
    "Since this is the basic level of cleaning necessary for future uses of this dataset, I'm going to save it now in its current form and then we'll continue with the EDA."
   ]
  },
  {
   "cell_type": "code",
   "execution_count": 17,
   "metadata": {},
   "outputs": [],
   "source": [
    "pos_neg_sent.to_csv('../data/Training_Data/2_Cleaned_Training_Data/Cleaned_Pos_Neg_Sentences.csv')"
   ]
  },
  {
   "cell_type": "code",
   "execution_count": 18,
   "metadata": {},
   "outputs": [],
   "source": [
    "# Split the data into features and target so I can CountVectorize it\n",
    "X = pos_neg_sent['Sentences']\n",
    "y = pos_neg_sent[['Negativity']]"
   ]
  },
  {
   "cell_type": "code",
   "execution_count": 19,
   "metadata": {},
   "outputs": [],
   "source": [
    "# I'm going to be doing this alot as well so let's create a function for it.\n",
    "def vectorizer2000(X, y, max_features1=None, ngram_range1=(1, 1)):\n",
    "    # Instantiate the vectorizer, and remove some unecessary words\n",
    "    cvec = CountVectorizer(analyzer='word', stop_words='english', max_features=max_features1, ngram_range=ngram_range1)\n",
    "    # Transform the data into something workable\n",
    "    a = cvec.fit_transform(X)\n",
    "\n",
    "    df = pd.DataFrame(a.toarray(), columns= cvec.get_feature_names())\n",
    "\n",
    "    final_df = df.merge(y, how='outer', left_index=True, right_index=True)\n",
    "    return final_df"
   ]
  },
  {
   "cell_type": "code",
   "execution_count": 20,
   "metadata": {},
   "outputs": [],
   "source": [
    "# prevents a `min arg()` error that would pop up due to populating the dataframe with nulls.\n",
    "pos_neg_sent = pos_neg_sent.reset_index().drop('index', axis=1)"
   ]
  },
  {
   "cell_type": "code",
   "execution_count": 21,
   "metadata": {},
   "outputs": [],
   "source": [
    "pos_neg_sent_cv = vectorizer2000(X, y, 5000, (2, 2))"
   ]
  },
  {
   "cell_type": "code",
   "execution_count": 22,
   "metadata": {},
   "outputs": [
    {
     "data": {
      "text/plain": [
       "0    1.0\n",
       "0    0.0\n",
       "1    1.0\n",
       "1    0.0\n",
       "2    1.0\n",
       "Name: Negativity, dtype: float64"
      ]
     },
     "execution_count": 22,
     "metadata": {},
     "output_type": "execute_result"
    }
   ],
   "source": [
    "pos_neg_sent_cv.Negativity.head()"
   ]
  },
  {
   "cell_type": "markdown",
   "metadata": {},
   "source": [
    "Next up is plotting. We'll plot the most commonly appearing pairs of words."
   ]
  },
  {
   "cell_type": "code",
   "execution_count": 23,
   "metadata": {},
   "outputs": [],
   "source": [
    "# Create our plotting functions and we'll put in some random defaults for easy testing\n",
    "def pos_plotter(df, target_column, plot_title = 'Negativity Data Set Most Common Words', ylabel_title = 'Word Pairs', xlabel_title = 'Number of Occurences'):\n",
    "    eda_best = df[df[target_column] == 1].sum().sort_values(ascending=False).head(10)\n",
    "    eda_best.drop(target_column, inplace=True)\n",
    "    eda_best = eda_best[eda_best > 20]\n",
    "    plt.figure(figsize=(8, 6))\n",
    "    sns.barplot(y=eda_best.index, x=eda_best, palette='Reds_r')\n",
    "    plt.title(plot_title,  fontweight='bold', fontsize=25)\n",
    "    plt.ylabel(ylabel_title,  fontweight='bold', fontsize=20)\n",
    "    plt.xlabel(xlabel_title,  fontweight='bold', fontsize=20)\n",
    "    plt.xticks(fontsize=16)\n",
    "    plt.yticks(fontsize=16);\n",
    "    \n",
    "    \n",
    "def neg_plotter(df, target_column, plot_title = 'Positivity Data Set Most Common Words', ylabel_title = 'Word Pairs', xlabel_title = 'Number of Occurences'):\n",
    "    eda_worst = df[df[target_column] == 0].sum().sort_values(ascending=False).head(10)\n",
    "#     eda_worst.drop(target_column, inplace=True)\n",
    "    eda_worst = eda_worst[eda_worst > 20]\n",
    "    plt.figure(figsize=(8, 6))\n",
    "    sns.barplot(y=eda_worst.index, x=eda_worst, palette='Purples_r')\n",
    "    plt.title(plot_title,  fontweight='bold', fontsize=25)\n",
    "    plt.ylabel(ylabel_title,  fontweight='bold', fontsize=20)\n",
    "    plt.xlabel(xlabel_title,  fontweight='bold', fontsize=20)\n",
    "    plt.xticks(fontsize=16)\n",
    "    plt.yticks(fontsize=16);"
   ]
  },
  {
   "cell_type": "code",
   "execution_count": 24,
   "metadata": {},
   "outputs": [
    {
     "data": {
      "image/png": "[encoded data removed]",
      "text/plain": [
       "<Figure size 576x432 with 1 Axes>"
      ]
     },
     "metadata": {
      "needs_background": "light"
     },
     "output_type": "display_data"
    }
   ],
   "source": [
    "pos_plotter(pos_neg_sent_cv, 'Negativity')"
   ]
  },
  {
   "cell_type": "markdown",
   "metadata": {},
   "source": [
    "Nothing super negative here. Let's check out the positive sentences."
   ]
  },
  {
   "cell_type": "code",
   "execution_count": 25,
   "metadata": {},
   "outputs": [
    {
     "data": {
      "image/png": "[encoded data removed]",
      "text/plain": [
       "<Figure size 576x432 with 1 Axes>"
      ]
     },
     "metadata": {
      "needs_background": "light"
     },
     "output_type": "display_data"
    }
   ],
   "source": [
    "neg_plotter(pos_neg_sent_cv, 'Negativity')"
   ]
  },
  {
   "cell_type": "markdown",
   "metadata": {},
   "source": [
    "Interesting. The words are very similar we'll have to drop some of these highly occurring words in the modelling process. Also the words seem to be largely about movies which is making me wonder where this data was collected from and how useful it will be later... We'll have to see."
   ]
  },
  {
   "cell_type": "code",
   "execution_count": 26,
   "metadata": {},
   "outputs": [],
   "source": [
    "# For memory efficiency i'm going to delete the count vectorized variables that we created earlier as well as some others.\n",
    "del pos_neg_sent_cv, neg_sent, pos_sent"
   ]
  },
  {
   "cell_type": "markdown",
   "metadata": {},
   "source": [
    "Let's move on to the next dataset."
   ]
  },
  {
   "cell_type": "markdown",
   "metadata": {},
   "source": [
    "# A Million Tweets\n",
    "This dataset is slightly more interesting than the last one since it rates the level of Negativity on a scale between 0 and 4. `0` being negative `2` being neutral and `4` being positive, for each individual tweet. This will likely be more precise than the previous one. Here's some information on the data from the [website](https://www.kaggle.com/kazanova/sentiment140): `This is the sentiment140 dataset. It contains 1,600,000 tweets extracted using the twitter api . The tweets have been annotated (0 = negative, 4 = positive) and they can be used to detect sentiment.` They used emoticons in tweets to classify the level of emotion. This is a far more accurate method of determining negative emotion on a large scale than using the words themselves due to the challenge posed by contextual word definitions. Also [here](https://www-cs.stanford.edu/people/alecmgo/papers/TwitterDistantSupervision09.pdf) is the pdf file written on the original project.\n",
    "\n",
    "First we'll check out the data and see what changes we will need to make for it to be useful."
   ]
  },
  {
   "cell_type": "code",
   "execution_count": 27,
   "metadata": {},
   "outputs": [
    {
     "data": {
      "text/html": [
       "<div>\n",
       "<style scoped>\n",
       "    .dataframe tbody tr th:only-of-type {\n",
       "        vertical-align: middle;\n",
       "    }\n",
       "\n",
       "    .dataframe tbody tr th {\n",
       "        vertical-align: top;\n",
       "    }\n",
       "\n",
       "    .dataframe thead th {\n",
       "        text-align: right;\n",
       "    }\n",
       "</style>\n",
       "<table border=\"1\" class=\"dataframe\">\n",
       "  <thead>\n",
       "    <tr style=\"text-align: right;\">\n",
       "      <th></th>\n",
       "      <th>0</th>\n",
       "      <th>1467810369</th>\n",
       "      <th>Mon Apr 06 22:19:45 PDT 2009</th>\n",
       "      <th>NO_QUERY</th>\n",
       "      <th>_TheSpecialOne_</th>\n",
       "      <th>@switchfoot http://twitpic.com/2y1zl - Awww, that's a bummer.  You shoulda got David Carr of Third Day to do it. ;D</th>\n",
       "    </tr>\n",
       "  </thead>\n",
       "  <tbody>\n",
       "    <tr>\n",
       "      <th>0</th>\n",
       "      <td>0</td>\n",
       "      <td>1467810672</td>\n",
       "      <td>Mon Apr 06 22:19:49 PDT 2009</td>\n",
       "      <td>NO_QUERY</td>\n",
       "      <td>scotthamilton</td>\n",
       "      <td>is upset that he can't update his Facebook by ...</td>\n",
       "    </tr>\n",
       "    <tr>\n",
       "      <th>1</th>\n",
       "      <td>0</td>\n",
       "      <td>1467810917</td>\n",
       "      <td>Mon Apr 06 22:19:53 PDT 2009</td>\n",
       "      <td>NO_QUERY</td>\n",
       "      <td>mattycus</td>\n",
       "      <td>@Kenichan I dived many times for the ball. Man...</td>\n",
       "    </tr>\n",
       "    <tr>\n",
       "      <th>2</th>\n",
       "      <td>0</td>\n",
       "      <td>1467811184</td>\n",
       "      <td>Mon Apr 06 22:19:57 PDT 2009</td>\n",
       "      <td>NO_QUERY</td>\n",
       "      <td>ElleCTF</td>\n",
       "      <td>my whole body feels itchy and like its on fire</td>\n",
       "    </tr>\n",
       "    <tr>\n",
       "      <th>3</th>\n",
       "      <td>0</td>\n",
       "      <td>1467811193</td>\n",
       "      <td>Mon Apr 06 22:19:57 PDT 2009</td>\n",
       "      <td>NO_QUERY</td>\n",
       "      <td>Karoli</td>\n",
       "      <td>@nationwideclass no, it's not behaving at all....</td>\n",
       "    </tr>\n",
       "    <tr>\n",
       "      <th>4</th>\n",
       "      <td>0</td>\n",
       "      <td>1467811372</td>\n",
       "      <td>Mon Apr 06 22:20:00 PDT 2009</td>\n",
       "      <td>NO_QUERY</td>\n",
       "      <td>joy_wolf</td>\n",
       "      <td>@Kwesidei not the whole crew</td>\n",
       "    </tr>\n",
       "  </tbody>\n",
       "</table>\n",
       "</div>"
      ],
      "text/plain": [
       "   0  1467810369  Mon Apr 06 22:19:45 PDT 2009  NO_QUERY _TheSpecialOne_  \\\n",
       "0  0  1467810672  Mon Apr 06 22:19:49 PDT 2009  NO_QUERY   scotthamilton   \n",
       "1  0  1467810917  Mon Apr 06 22:19:53 PDT 2009  NO_QUERY        mattycus   \n",
       "2  0  1467811184  Mon Apr 06 22:19:57 PDT 2009  NO_QUERY         ElleCTF   \n",
       "3  0  1467811193  Mon Apr 06 22:19:57 PDT 2009  NO_QUERY          Karoli   \n",
       "4  0  1467811372  Mon Apr 06 22:20:00 PDT 2009  NO_QUERY        joy_wolf   \n",
       "\n",
       "  @switchfoot http://twitpic.com/2y1zl - Awww, that's a bummer.  You shoulda got David Carr of Third Day to do it. ;D  \n",
       "0  is upset that he can't update his Facebook by ...                                                                   \n",
       "1  @Kenichan I dived many times for the ball. Man...                                                                   \n",
       "2    my whole body feels itchy and like its on fire                                                                    \n",
       "3  @nationwideclass no, it's not behaving at all....                                                                   \n",
       "4                      @Kwesidei not the whole crew                                                                    "
      ]
     },
     "execution_count": 27,
     "metadata": {},
     "output_type": "execute_result"
    }
   ],
   "source": [
    "mill_tweets.head()"
   ]
  },
  {
   "cell_type": "markdown",
   "metadata": {},
   "source": [
    "There are a bunch of things that we are going to have to do in order to \"normalize\" this (For the mathematical people, I don't mean reducing the scale into a normal range). The first thing that we noticed when we first saw this is the fact that the target column is labeled `0`. Then we realized that the column names are really just more data and should have been a row. Let's fix that."
   ]
  },
  {
   "cell_type": "code",
   "execution_count": 28,
   "metadata": {},
   "outputs": [
    {
     "data": {
      "text/html": [
       "<div>\n",
       "<style scoped>\n",
       "    .dataframe tbody tr th:only-of-type {\n",
       "        vertical-align: middle;\n",
       "    }\n",
       "\n",
       "    .dataframe tbody tr th {\n",
       "        vertical-align: top;\n",
       "    }\n",
       "\n",
       "    .dataframe thead th {\n",
       "        text-align: right;\n",
       "    }\n",
       "</style>\n",
       "<table border=\"1\" class=\"dataframe\">\n",
       "  <thead>\n",
       "    <tr style=\"text-align: right;\">\n",
       "      <th></th>\n",
       "      <th>Negativity</th>\n",
       "      <th>Tweets</th>\n",
       "    </tr>\n",
       "  </thead>\n",
       "  <tbody>\n",
       "    <tr>\n",
       "      <th>0</th>\n",
       "      <td>0</td>\n",
       "      <td>is upset that he can't update his Facebook by ...</td>\n",
       "    </tr>\n",
       "    <tr>\n",
       "      <th>1</th>\n",
       "      <td>0</td>\n",
       "      <td>@Kenichan I dived many times for the ball. Man...</td>\n",
       "    </tr>\n",
       "    <tr>\n",
       "      <th>2</th>\n",
       "      <td>0</td>\n",
       "      <td>my whole body feels itchy and like its on fire</td>\n",
       "    </tr>\n",
       "    <tr>\n",
       "      <th>3</th>\n",
       "      <td>0</td>\n",
       "      <td>@nationwideclass no, it's not behaving at all....</td>\n",
       "    </tr>\n",
       "    <tr>\n",
       "      <th>4</th>\n",
       "      <td>0</td>\n",
       "      <td>@Kwesidei not the whole crew</td>\n",
       "    </tr>\n",
       "  </tbody>\n",
       "</table>\n",
       "</div>"
      ],
      "text/plain": [
       "   Negativity                                             Tweets\n",
       "0           0  is upset that he can't update his Facebook by ...\n",
       "1           0  @Kenichan I dived many times for the ball. Man...\n",
       "2           0    my whole body feels itchy and like its on fire \n",
       "3           0  @nationwideclass no, it's not behaving at all....\n",
       "4           0                      @Kwesidei not the whole crew "
      ]
     },
     "execution_count": 28,
     "metadata": {},
     "output_type": "execute_result"
    }
   ],
   "source": [
    "mill_tweets = mill_tweets.rename(columns = {'0': 'Negativity', \n",
    "                     \"@switchfoot http://twitpic.com/2y1zl - Awww, that's a bummer.  You shoulda got David Carr of Third Day to do it. ;D\": 'Tweets'})[['Negativity', 'Tweets']]\n",
    "mill_tweets.head()"
   ]
  },
  {
   "cell_type": "markdown",
   "metadata": {},
   "source": [
    "Since this is supposed to be a negativity evaluation we're going to rescale the Negativity column. When researching some of the discussions about the data there were many comments about there being no `2`s in the data set. If that is true then that will affect how we rescale so let's examine that now."
   ]
  },
  {
   "cell_type": "code",
   "execution_count": 29,
   "metadata": {},
   "outputs": [
    {
     "data": {
      "text/plain": [
       "4    800000\n",
       "0    799999\n",
       "Name: Negativity, dtype: int64"
      ]
     },
     "execution_count": 29,
     "metadata": {},
     "output_type": "execute_result"
    }
   ],
   "source": [
    "mill_tweets.Negativity.value_counts()"
   ]
  },
  {
   "cell_type": "markdown",
   "metadata": {},
   "source": [
    "Wow.... There's only `4`s and `0`s... Well, so much for that.... Okay it seems that the only classification was whether or not it was positive... We are going to look into the [pdf file](https://www-cs.stanford.edu/people/alecmgo/papers/TwitterDistantSupervision09.pdf) that was written on this project.... Hmmmmm.... There doesn't appear to be any mention of what their target column is supposed to look like. Also, the number of emoticons that they used is pretty limited.... However, it might still be better than our previous dataset since emoticons will still probably be more accurate at classifying the mood of each tweet. So from the next code block onwards `4` will become `0` and the original `0` will become `1`. One nice thing that comes out of this is that we can now combine the previous dataset with this one. But we'll get to that later. Right now, back to cleaning.\n",
    "\n",
    "So for the tweets themselves we want to get rid of any of the `@` symbols and their attached names, and reduce the tweets down to the words themselves. We'll use the function that I used earlier as well as a new one to get rid of the `@words`."
   ]
  },
  {
   "cell_type": "code",
   "execution_count": 30,
   "metadata": {},
   "outputs": [],
   "source": [
    "mill_tweets['Tweets'] = mill_tweets['Tweets'].map(lambda x: ' '.join([i for i in x.split() if i[0] != '@']))"
   ]
  },
  {
   "cell_type": "code",
   "execution_count": 31,
   "metadata": {},
   "outputs": [
    {
     "data": {
      "text/html": [
       "<div>\n",
       "<style scoped>\n",
       "    .dataframe tbody tr th:only-of-type {\n",
       "        vertical-align: middle;\n",
       "    }\n",
       "\n",
       "    .dataframe tbody tr th {\n",
       "        vertical-align: top;\n",
       "    }\n",
       "\n",
       "    .dataframe thead th {\n",
       "        text-align: right;\n",
       "    }\n",
       "</style>\n",
       "<table border=\"1\" class=\"dataframe\">\n",
       "  <thead>\n",
       "    <tr style=\"text-align: right;\">\n",
       "      <th></th>\n",
       "      <th>Negativity</th>\n",
       "      <th>Tweets</th>\n",
       "    </tr>\n",
       "  </thead>\n",
       "  <tbody>\n",
       "    <tr>\n",
       "      <th>0</th>\n",
       "      <td>0</td>\n",
       "      <td>is upset that he can't update his facebook by ...</td>\n",
       "    </tr>\n",
       "    <tr>\n",
       "      <th>1</th>\n",
       "      <td>0</td>\n",
       "      <td>i dived many time for the ball managed to save...</td>\n",
       "    </tr>\n",
       "    <tr>\n",
       "      <th>2</th>\n",
       "      <td>0</td>\n",
       "      <td>my whole body feel itchy and like it on fire</td>\n",
       "    </tr>\n",
       "    <tr>\n",
       "      <th>3</th>\n",
       "      <td>0</td>\n",
       "      <td>no it's not behaving at all i'm mad why am i h...</td>\n",
       "    </tr>\n",
       "    <tr>\n",
       "      <th>4</th>\n",
       "      <td>0</td>\n",
       "      <td>not the whole crew</td>\n",
       "    </tr>\n",
       "  </tbody>\n",
       "</table>\n",
       "</div>"
      ],
      "text/plain": [
       "   Negativity                                             Tweets\n",
       "0           0  is upset that he can't update his facebook by ...\n",
       "1           0  i dived many time for the ball managed to save...\n",
       "2           0       my whole body feel itchy and like it on fire\n",
       "3           0  no it's not behaving at all i'm mad why am i h...\n",
       "4           0                                 not the whole crew"
      ]
     },
     "execution_count": 31,
     "metadata": {},
     "output_type": "execute_result"
    }
   ],
   "source": [
    "mill_tweets['Tweets'] = mill_tweets['Tweets'].apply(shorten)\n",
    "# Check to make sure it worked\n",
    "mill_tweets.head()"
   ]
  },
  {
   "cell_type": "code",
   "execution_count": 32,
   "metadata": {},
   "outputs": [],
   "source": [
    "mill_tweets['Negativity'] = mill_tweets['Negativity'].map({0:1, 4:0})"
   ]
  },
  {
   "cell_type": "code",
   "execution_count": 33,
   "metadata": {},
   "outputs": [],
   "source": [
    "mill_tweets['Negativity'] = mill_tweets['Negativity'].astype(np.int32)"
   ]
  },
  {
   "cell_type": "markdown",
   "metadata": {},
   "source": [
    "Now it's Vectorizing time!"
   ]
  },
  {
   "cell_type": "code",
   "execution_count": 34,
   "metadata": {},
   "outputs": [
    {
     "name": "stdout",
     "output_type": "stream",
     "text": [
      "This is taking up too much memory use a smaller sample.\n"
     ]
    }
   ],
   "source": [
    "# Split the data into features and target so I can CountVectorize it\n",
    "X = mill_tweets['Tweets']\n",
    "y = mill_tweets[['Negativity']]\n",
    "\n",
    "try:\n",
    "    mill_tweets_vec = vectorizer2000(X, y, 10_000, (2, 2))\n",
    "    mill_tweets_vec.head()\n",
    "except MemoryError:\n",
    "    print('This is taking up too much memory use a smaller sample.')"
   ]
  },
  {
   "cell_type": "markdown",
   "metadata": {},
   "source": [
    "Okay, my data set is too big to be read into memory while count vectorized so I'll take a smaller random sampling of it instead. We're going to need to keep this in mind for later. "
   ]
  },
  {
   "cell_type": "code",
   "execution_count": 35,
   "metadata": {},
   "outputs": [],
   "source": [
    "mill_tweets_test = mill_tweets.sample(n=20_000, random_state=42, )"
   ]
  },
  {
   "cell_type": "code",
   "execution_count": 36,
   "metadata": {},
   "outputs": [],
   "source": [
    "# prevents a `min arg()` error that would pop up due to populating the dataframe with nulls.\n",
    "mill_tweets_test = mill_tweets_test.reset_index().drop('index', axis=1)"
   ]
  },
  {
   "cell_type": "code",
   "execution_count": 37,
   "metadata": {},
   "outputs": [],
   "source": [
    "# Round two.\n",
    "X = mill_tweets_test['Tweets']\n",
    "y = mill_tweets_test[['Negativity']]\n",
    "\n",
    "try:\n",
    "    mill_tweets_vec = vectorizer2000(X, y, 10_000, (2, 2))\n",
    "except MemoryError:\n",
    "    print('This is taking up too much memory use a smaller sample.')"
   ]
  },
  {
   "cell_type": "markdown",
   "metadata": {},
   "source": [
    "It looks like we're down to a much smaller sample size than we originally planned. But no worries, it's still pretty big and should work fine. (Interesting to note that running the above function would at first use up 40% of the memory but then it would drop to 20%). We'll make a note to aim for 30,000 words when modelling but for now we can run with 10,000.\n",
    "Plotting time."
   ]
  },
  {
   "cell_type": "code",
   "execution_count": 38,
   "metadata": {},
   "outputs": [
    {
     "data": {
      "image/png": "[encoded data removed]",
      "text/plain": [
       "<Figure size 576x432 with 1 Axes>"
      ]
     },
     "metadata": {
      "needs_background": "light"
     },
     "output_type": "display_data"
    }
   ],
   "source": [
    "neg_plotter(mill_tweets_vec, 'Negativity')"
   ]
  },
  {
   "cell_type": "code",
   "execution_count": 39,
   "metadata": {},
   "outputs": [
    {
     "data": {
      "image/png": "[encoded data removed]",
      "text/plain": [
       "<Figure size 576x432 with 1 Axes>"
      ]
     },
     "metadata": {
      "needs_background": "light"
     },
     "output_type": "display_data"
    }
   ],
   "source": [
    "pos_plotter(mill_tweets_vec, 'Negativity')"
   ]
  },
  {
   "cell_type": "markdown",
   "metadata": {},
   "source": [
    "There are plenty of words that we will remove in the eventual modelling process by using the min_df argument when count vectorizing. But anyways, onto the next data set. Let's put the two datasets together and save them."
   ]
  },
  {
   "cell_type": "code",
   "execution_count": 40,
   "metadata": {},
   "outputs": [],
   "source": [
    "mill_tweets_final = mill_tweets_test.rename(columns = ({'Tweets': 'Sentences'}))"
   ]
  },
  {
   "cell_type": "code",
   "execution_count": 41,
   "metadata": {},
   "outputs": [],
   "source": [
    "# Align the columns\n",
    "mill_tweets_final = mill_tweets_final[['Sentences', 'Negativity']]"
   ]
  },
  {
   "cell_type": "code",
   "execution_count": 42,
   "metadata": {},
   "outputs": [],
   "source": [
    "# Put em togetha\n",
    "sentences = pd.concat([mill_tweets_final, pos_neg_sent])"
   ]
  },
  {
   "cell_type": "code",
   "execution_count": 43,
   "metadata": {},
   "outputs": [
    {
     "data": {
      "text/plain": [
       "(20000, 2)"
      ]
     },
     "execution_count": 43,
     "metadata": {},
     "output_type": "execute_result"
    }
   ],
   "source": [
    "# Confirm that it worked\n",
    "mill_tweets_final.shape"
   ]
  },
  {
   "cell_type": "code",
   "execution_count": 44,
   "metadata": {},
   "outputs": [
    {
     "data": {
      "text/plain": [
       "(10662, 2)"
      ]
     },
     "execution_count": 44,
     "metadata": {},
     "output_type": "execute_result"
    }
   ],
   "source": [
    "pos_neg_sent.shape"
   ]
  },
  {
   "cell_type": "code",
   "execution_count": 45,
   "metadata": {},
   "outputs": [
    {
     "data": {
      "text/plain": [
       "(30662, 2)"
      ]
     },
     "execution_count": 45,
     "metadata": {},
     "output_type": "execute_result"
    }
   ],
   "source": [
    "sentences.shape"
   ]
  },
  {
   "cell_type": "code",
   "execution_count": 46,
   "metadata": {},
   "outputs": [],
   "source": [
    "# Save em\n",
    "sentences.to_csv('../data/Training_Data/2_Cleaned_Training_Data/Cleaned_Pos_Neg_Sentences.csv')"
   ]
  },
  {
   "cell_type": "code",
   "execution_count": 47,
   "metadata": {},
   "outputs": [],
   "source": [
    "# Memory efficiency as I mentiones before.\n",
    "del sentences, mill_tweets_final, X, y, mill_tweets_vec, mill_tweets"
   ]
  },
  {
   "cell_type": "markdown",
   "metadata": {},
   "source": [
    "Now that we've put them together, we'll move on for real."
   ]
  },
  {
   "cell_type": "markdown",
   "metadata": {},
   "source": [
    "## Data World Emotion Classifier"
   ]
  },
  {
   "cell_type": "markdown",
   "metadata": {},
   "source": [
    "Another data set without much background information available but a brief glance at the first couple of rows and it seems pretty accurate. It's always possible that this is only true for the first couple of rows and the data set is just part of an elaborate conspiracy to prevent machines from really learning human emotions, but i'm not that paranoid.\n",
    "\n",
    "Now, it's important to explain what is the purpose of the next couple of datasets. I want a separate classifier that simply establishes the negative *emotion* of a phrase. Not whether the phrase is altogether negative in any regard, like the previous data sets. This is based off the knowledge that generally high levels of negative emotion equals greater proclivity towards irrationality. In a therapy session it is likely for there to be high levels of negative emotion because, after all, that is why the client is going to therapy.\n",
    "\n",
    "So let's jump right in."
   ]
  },
  {
   "cell_type": "code",
   "execution_count": 48,
   "metadata": {
    "scrolled": false
   },
   "outputs": [
    {
     "data": {
      "text/html": [
       "<div>\n",
       "<style scoped>\n",
       "    .dataframe tbody tr th:only-of-type {\n",
       "        vertical-align: middle;\n",
       "    }\n",
       "\n",
       "    .dataframe tbody tr th {\n",
       "        vertical-align: top;\n",
       "    }\n",
       "\n",
       "    .dataframe thead th {\n",
       "        text-align: right;\n",
       "    }\n",
       "</style>\n",
       "<table border=\"1\" class=\"dataframe\">\n",
       "  <thead>\n",
       "    <tr style=\"text-align: right;\">\n",
       "      <th></th>\n",
       "      <th>Unnamed: 0</th>\n",
       "      <th>text</th>\n",
       "      <th>emotions</th>\n",
       "    </tr>\n",
       "  </thead>\n",
       "  <tbody>\n",
       "    <tr>\n",
       "      <th>0</th>\n",
       "      <td>27383</td>\n",
       "      <td>i feel awful about it too because it s my job ...</td>\n",
       "      <td>sadness</td>\n",
       "    </tr>\n",
       "    <tr>\n",
       "      <th>1</th>\n",
       "      <td>110083</td>\n",
       "      <td>im alone i feel awful</td>\n",
       "      <td>sadness</td>\n",
       "    </tr>\n",
       "    <tr>\n",
       "      <th>2</th>\n",
       "      <td>140764</td>\n",
       "      <td>ive probably mentioned this before but i reall...</td>\n",
       "      <td>joy</td>\n",
       "    </tr>\n",
       "    <tr>\n",
       "      <th>3</th>\n",
       "      <td>100071</td>\n",
       "      <td>i was feeling a little low few days back</td>\n",
       "      <td>sadness</td>\n",
       "    </tr>\n",
       "    <tr>\n",
       "      <th>4</th>\n",
       "      <td>2837</td>\n",
       "      <td>i beleive that i am much more sensitive to oth...</td>\n",
       "      <td>love</td>\n",
       "    </tr>\n",
       "  </tbody>\n",
       "</table>\n",
       "</div>"
      ],
      "text/plain": [
       "   Unnamed: 0                                               text emotions\n",
       "0       27383  i feel awful about it too because it s my job ...  sadness\n",
       "1      110083                              im alone i feel awful  sadness\n",
       "2      140764  ive probably mentioned this before but i reall...      joy\n",
       "3      100071           i was feeling a little low few days back  sadness\n",
       "4        2837  i beleive that i am much more sensitive to oth...     love"
      ]
     },
     "execution_count": 48,
     "metadata": {},
     "output_type": "execute_result"
    }
   ],
   "source": [
    "six_emotions.head()"
   ]
  },
  {
   "cell_type": "markdown",
   "metadata": {},
   "source": [
    "I'm pretty excited about this dataset. Already we can see that there is a classification system for emotions. Let's examine a little closer."
   ]
  },
  {
   "cell_type": "code",
   "execution_count": 49,
   "metadata": {},
   "outputs": [
    {
     "data": {
      "text/plain": [
       "joy         141067\n",
       "sadness     121187\n",
       "anger        57317\n",
       "fear         47712\n",
       "love         34554\n",
       "surprise     14972\n",
       "Name: emotions, dtype: int64"
      ]
     },
     "execution_count": 49,
     "metadata": {},
     "output_type": "execute_result"
    }
   ],
   "source": [
    "six_emotions.emotions.value_counts()"
   ]
  },
  {
   "cell_type": "markdown",
   "metadata": {},
   "source": [
    "We have three negative emotions which is going to be our focus. But first let's get rid of the extra column."
   ]
  },
  {
   "cell_type": "code",
   "execution_count": 50,
   "metadata": {},
   "outputs": [],
   "source": [
    "six_emotions.drop('Unnamed: 0', axis=1, inplace=True)"
   ]
  },
  {
   "cell_type": "markdown",
   "metadata": {},
   "source": [
    "I also see that the data appears to be already cleaned so I'm spared from doing that.\n",
    "For now we'll turn the emotion column into a simple binary of Negative or Not. I haven't quite decided yet whether in my final analysis we'll use them in their original forms."
   ]
  },
  {
   "cell_type": "code",
   "execution_count": 51,
   "metadata": {},
   "outputs": [],
   "source": [
    "# Rename columns\n",
    "six_emotions = six_emotions.rename(columns = {'text': 'Sentences', 'emotions': 'Negativity'})"
   ]
  },
  {
   "cell_type": "code",
   "execution_count": 52,
   "metadata": {},
   "outputs": [
    {
     "data": {
      "text/plain": [
       "(416809, 2)"
      ]
     },
     "execution_count": 52,
     "metadata": {},
     "output_type": "execute_result"
    }
   ],
   "source": [
    "# Check how many rows we got here.\n",
    "six_emotions.shape"
   ]
  },
  {
   "cell_type": "code",
   "execution_count": 53,
   "metadata": {},
   "outputs": [
    {
     "data": {
      "text/html": [
       "<div>\n",
       "<style scoped>\n",
       "    .dataframe tbody tr th:only-of-type {\n",
       "        vertical-align: middle;\n",
       "    }\n",
       "\n",
       "    .dataframe tbody tr th {\n",
       "        vertical-align: top;\n",
       "    }\n",
       "\n",
       "    .dataframe thead th {\n",
       "        text-align: right;\n",
       "    }\n",
       "</style>\n",
       "<table border=\"1\" class=\"dataframe\">\n",
       "  <thead>\n",
       "    <tr style=\"text-align: right;\">\n",
       "      <th></th>\n",
       "      <th>Sentences</th>\n",
       "      <th>Negativity</th>\n",
       "    </tr>\n",
       "  </thead>\n",
       "  <tbody>\n",
       "    <tr>\n",
       "      <th>0</th>\n",
       "      <td>i feel awful about it too because it s my job ...</td>\n",
       "      <td>sadness</td>\n",
       "    </tr>\n",
       "    <tr>\n",
       "      <th>1</th>\n",
       "      <td>im alone i feel awful</td>\n",
       "      <td>sadness</td>\n",
       "    </tr>\n",
       "    <tr>\n",
       "      <th>2</th>\n",
       "      <td>ive probably mentioned this before but i reall...</td>\n",
       "      <td>joy</td>\n",
       "    </tr>\n",
       "    <tr>\n",
       "      <th>3</th>\n",
       "      <td>i was feeling a little low few days back</td>\n",
       "      <td>sadness</td>\n",
       "    </tr>\n",
       "    <tr>\n",
       "      <th>4</th>\n",
       "      <td>i beleive that i am much more sensitive to oth...</td>\n",
       "      <td>love</td>\n",
       "    </tr>\n",
       "  </tbody>\n",
       "</table>\n",
       "</div>"
      ],
      "text/plain": [
       "                                           Sentences Negativity\n",
       "0  i feel awful about it too because it s my job ...    sadness\n",
       "1                              im alone i feel awful    sadness\n",
       "2  ive probably mentioned this before but i reall...        joy\n",
       "3           i was feeling a little low few days back    sadness\n",
       "4  i beleive that i am much more sensitive to oth...       love"
      ]
     },
     "execution_count": 53,
     "metadata": {},
     "output_type": "execute_result"
    }
   ],
   "source": [
    "six_emotions.head()"
   ]
  },
  {
   "cell_type": "code",
   "execution_count": 54,
   "metadata": {},
   "outputs": [],
   "source": [
    "# Binarize\n",
    "six_emotions['Negativity'] = six_emotions['Negativity'].map({'joy': 0,         \n",
    "                                        'sadness': 1,     \n",
    "                                        'anger': 1,      \n",
    "                                        'fear': 1,       \n",
    "                                        'love': 0,       \n",
    "                                        'surprise': 0})"
   ]
  },
  {
   "cell_type": "code",
   "execution_count": 55,
   "metadata": {},
   "outputs": [
    {
     "data": {
      "text/plain": [
       "1    226216\n",
       "0    190593\n",
       "Name: Negativity, dtype: int64"
      ]
     },
     "execution_count": 55,
     "metadata": {},
     "output_type": "execute_result"
    }
   ],
   "source": [
    "# Confirm that it worked\n",
    "six_emotions['Negativity'].value_counts()"
   ]
  },
  {
   "cell_type": "markdown",
   "metadata": {},
   "source": [
    "This is an easy one and we can go straight into Vectorizing."
   ]
  },
  {
   "cell_type": "code",
   "execution_count": 56,
   "metadata": {},
   "outputs": [
    {
     "name": "stdout",
     "output_type": "stream",
     "text": [
      "This is taking up too much memory use a smaller sample.\n"
     ]
    }
   ],
   "source": [
    "# Split the data into features and target so I can CountVectorize it\n",
    "X = six_emotions['Sentences']\n",
    "y = six_emotions[['Negativity']]\n",
    "\n",
    "try:\n",
    "    six_emotions_vec = vectorizer2000(X, y, 10_000, (2, 2))\n",
    "except MemoryError:\n",
    "    print('This is taking up too much memory use a smaller sample.')"
   ]
  },
  {
   "cell_type": "markdown",
   "metadata": {},
   "source": [
    "Oh lord, here we go again. Time to reduce our number of rows. But to cover all our bases we'll use some of the functions I used earlier as well."
   ]
  },
  {
   "cell_type": "code",
   "execution_count": 57,
   "metadata": {},
   "outputs": [],
   "source": [
    "six_emotions = six_emotions.sample(n=10_000, random_state=42)\n",
    "six_emotions['Negativity'] = six_emotions['Negativity'].astype(np.int32)\n",
    "six_emotions = six_emotions.reset_index().drop('index', axis=1)"
   ]
  },
  {
   "cell_type": "code",
   "execution_count": 58,
   "metadata": {},
   "outputs": [],
   "source": [
    "X = six_emotions['Sentences']\n",
    "y = six_emotions[['Negativity']]\n",
    "\n",
    "try:\n",
    "    six_emotions_vec = vectorizer2000(X, y, 20_000, (2, 2))\n",
    "except MemoryError:\n",
    "    print('This is taking up too much memory use a smaller sample.')"
   ]
  },
  {
   "cell_type": "markdown",
   "metadata": {},
   "source": [
    "That worked! Let's plot them."
   ]
  },
  {
   "cell_type": "code",
   "execution_count": 59,
   "metadata": {},
   "outputs": [
    {
     "data": {
      "image/png": "[encoded data removed]",
      "text/plain": [
       "<Figure size 576x432 with 1 Axes>"
      ]
     },
     "metadata": {
      "needs_background": "light"
     },
     "output_type": "display_data"
    }
   ],
   "source": [
    "neg_plotter(six_emotions_vec, 'Negativity')"
   ]
  },
  {
   "cell_type": "code",
   "execution_count": 60,
   "metadata": {},
   "outputs": [
    {
     "data": {
      "image/png": "[encoded data removed]",
      "text/plain": [
       "<Figure size 576x432 with 1 Axes>"
      ]
     },
     "metadata": {
      "needs_background": "light"
     },
     "output_type": "display_data"
    }
   ],
   "source": [
    "pos_plotter(six_emotions_vec, 'Negativity')"
   ]
  },
  {
   "cell_type": "markdown",
   "metadata": {},
   "source": [
    "Some obvious words come up. Looks like \"feel\" is a very frequent one.\n",
    "To finish up, let's save the cleaned dataset to a csv file."
   ]
  },
  {
   "cell_type": "code",
   "execution_count": 61,
   "metadata": {},
   "outputs": [],
   "source": [
    "six_emotions.to_csv('../data/Training_Data/2_Cleaned_Training_Data/Cleaned_Emotion_Analyzer.csv')"
   ]
  },
  {
   "cell_type": "code",
   "execution_count": 62,
   "metadata": {},
   "outputs": [],
   "source": [
    "# Memory efficiency as I mentiones before.\n",
    "del six_emotions, six_emotions_vec, X, y"
   ]
  },
  {
   "cell_type": "markdown",
   "metadata": {},
   "source": [
    "## The Other Emotion Classifier"
   ]
  },
  {
   "cell_type": "markdown",
   "metadata": {},
   "source": [
    "According to their website at [figure-eight](https://www.figure-eight.com/data-for-everyone/), \"In a variation on the popular task of sentiment analysis, this dataset contains labels for the emotional content (such as happiness, sadness, and anger) of texts. Hundreds to thousands of examples across 13 labels. A subset of this data is used in an experiment we uploaded to Microsoft’s Cortana Intelligence Gallery.\" This is a second data set with a more solid background than our last one (at least as far as I can tell). Let's check it out."
   ]
  },
  {
   "cell_type": "code",
   "execution_count": 63,
   "metadata": {},
   "outputs": [
    {
     "data": {
      "text/html": [
       "<div>\n",
       "<style scoped>\n",
       "    .dataframe tbody tr th:only-of-type {\n",
       "        vertical-align: middle;\n",
       "    }\n",
       "\n",
       "    .dataframe tbody tr th {\n",
       "        vertical-align: top;\n",
       "    }\n",
       "\n",
       "    .dataframe thead th {\n",
       "        text-align: right;\n",
       "    }\n",
       "</style>\n",
       "<table border=\"1\" class=\"dataframe\">\n",
       "  <thead>\n",
       "    <tr style=\"text-align: right;\">\n",
       "      <th></th>\n",
       "      <th>tweet_id</th>\n",
       "      <th>sentiment</th>\n",
       "      <th>author</th>\n",
       "      <th>content</th>\n",
       "    </tr>\n",
       "  </thead>\n",
       "  <tbody>\n",
       "    <tr>\n",
       "      <th>0</th>\n",
       "      <td>1956967341</td>\n",
       "      <td>empty</td>\n",
       "      <td>xoshayzers</td>\n",
       "      <td>@tiffanylue i know  i was listenin to bad habi...</td>\n",
       "    </tr>\n",
       "    <tr>\n",
       "      <th>1</th>\n",
       "      <td>1956967666</td>\n",
       "      <td>sadness</td>\n",
       "      <td>wannamama</td>\n",
       "      <td>Layin n bed with a headache  ughhhh...waitin o...</td>\n",
       "    </tr>\n",
       "    <tr>\n",
       "      <th>2</th>\n",
       "      <td>1956967696</td>\n",
       "      <td>sadness</td>\n",
       "      <td>coolfunky</td>\n",
       "      <td>Funeral ceremony...gloomy friday...</td>\n",
       "    </tr>\n",
       "    <tr>\n",
       "      <th>3</th>\n",
       "      <td>1956967789</td>\n",
       "      <td>enthusiasm</td>\n",
       "      <td>czareaquino</td>\n",
       "      <td>wants to hang out with friends SOON!</td>\n",
       "    </tr>\n",
       "    <tr>\n",
       "      <th>4</th>\n",
       "      <td>1956968416</td>\n",
       "      <td>neutral</td>\n",
       "      <td>xkilljoyx</td>\n",
       "      <td>@dannycastillo We want to trade with someone w...</td>\n",
       "    </tr>\n",
       "  </tbody>\n",
       "</table>\n",
       "</div>"
      ],
      "text/plain": [
       "     tweet_id   sentiment       author  \\\n",
       "0  1956967341       empty   xoshayzers   \n",
       "1  1956967666     sadness    wannamama   \n",
       "2  1956967696     sadness    coolfunky   \n",
       "3  1956967789  enthusiasm  czareaquino   \n",
       "4  1956968416     neutral    xkilljoyx   \n",
       "\n",
       "                                             content  \n",
       "0  @tiffanylue i know  i was listenin to bad habi...  \n",
       "1  Layin n bed with a headache  ughhhh...waitin o...  \n",
       "2                Funeral ceremony...gloomy friday...  \n",
       "3               wants to hang out with friends SOON!  \n",
       "4  @dannycastillo We want to trade with someone w...  "
      ]
     },
     "execution_count": 63,
     "metadata": {},
     "output_type": "execute_result"
    }
   ],
   "source": [
    "twelve_emotions.head()"
   ]
  },
  {
   "cell_type": "markdown",
   "metadata": {},
   "source": [
    "To start let's drop the uneccsix_emotionsry data. So the rows `author` and `tweet_id` are out."
   ]
  },
  {
   "cell_type": "code",
   "execution_count": 64,
   "metadata": {},
   "outputs": [],
   "source": [
    "twelve_emotions.drop(['tweet_id', 'author'], axis=1, inplace=True)"
   ]
  },
  {
   "cell_type": "markdown",
   "metadata": {},
   "source": [
    "Let's clean up the `content` column and check out the different values in the `sentiment` column. But we'll do the second thing first."
   ]
  },
  {
   "cell_type": "code",
   "execution_count": 65,
   "metadata": {},
   "outputs": [
    {
     "data": {
      "text/plain": [
       "neutral       8638\n",
       "worry         8459\n",
       "happiness     5209\n",
       "sadness       5165\n",
       "love          3842\n",
       "surprise      2187\n",
       "fun           1776\n",
       "relief        1526\n",
       "hate          1323\n",
       "empty          827\n",
       "enthusiasm     759\n",
       "boredom        179\n",
       "anger          110\n",
       "Name: sentiment, dtype: int64"
      ]
     },
     "execution_count": 65,
     "metadata": {},
     "output_type": "execute_result"
    }
   ],
   "source": [
    "twelve_emotions.sentiment.value_counts()"
   ]
  },
  {
   "cell_type": "markdown",
   "metadata": {},
   "source": [
    "This DataSet covers a larger range of negative emotions than the previous one which is nice.\n",
    "\n",
    "I'm wondering what those \"empty\" rows are."
   ]
  },
  {
   "cell_type": "code",
   "execution_count": 66,
   "metadata": {},
   "outputs": [
    {
     "data": {
      "text/html": [
       "<div>\n",
       "<style scoped>\n",
       "    .dataframe tbody tr th:only-of-type {\n",
       "        vertical-align: middle;\n",
       "    }\n",
       "\n",
       "    .dataframe tbody tr th {\n",
       "        vertical-align: top;\n",
       "    }\n",
       "\n",
       "    .dataframe thead th {\n",
       "        text-align: right;\n",
       "    }\n",
       "</style>\n",
       "<table border=\"1\" class=\"dataframe\">\n",
       "  <thead>\n",
       "    <tr style=\"text-align: right;\">\n",
       "      <th></th>\n",
       "      <th>sentiment</th>\n",
       "      <th>content</th>\n",
       "    </tr>\n",
       "  </thead>\n",
       "  <tbody>\n",
       "    <tr>\n",
       "      <th>0</th>\n",
       "      <td>empty</td>\n",
       "      <td>@tiffanylue i know  i was listenin to bad habi...</td>\n",
       "    </tr>\n",
       "    <tr>\n",
       "      <th>44</th>\n",
       "      <td>empty</td>\n",
       "      <td>@creyes middle school and elem. High schools w...</td>\n",
       "    </tr>\n",
       "    <tr>\n",
       "      <th>52</th>\n",
       "      <td>empty</td>\n",
       "      <td>@djmicdamn hey yu lil fucker i textd yu</td>\n",
       "    </tr>\n",
       "    <tr>\n",
       "      <th>141</th>\n",
       "      <td>empty</td>\n",
       "      <td>@softtouchme just answered you- never learned ...</td>\n",
       "    </tr>\n",
       "    <tr>\n",
       "      <th>180</th>\n",
       "      <td>empty</td>\n",
       "      <td>Have a headache  I'm going to bed. Goodnight!</td>\n",
       "    </tr>\n",
       "  </tbody>\n",
       "</table>\n",
       "</div>"
      ],
      "text/plain": [
       "    sentiment                                            content\n",
       "0       empty  @tiffanylue i know  i was listenin to bad habi...\n",
       "44      empty  @creyes middle school and elem. High schools w...\n",
       "52      empty            @djmicdamn hey yu lil fucker i textd yu\n",
       "141     empty  @softtouchme just answered you- never learned ...\n",
       "180     empty      Have a headache  I'm going to bed. Goodnight!"
      ]
     },
     "execution_count": 66,
     "metadata": {},
     "output_type": "execute_result"
    }
   ],
   "source": [
    "twelve_emotions[twelve_emotions['sentiment']=='empty'].head()"
   ]
  },
  {
   "cell_type": "markdown",
   "metadata": {},
   "source": [
    "I'm going to drop those rows because they might be misleading."
   ]
  },
  {
   "cell_type": "code",
   "execution_count": 67,
   "metadata": {},
   "outputs": [],
   "source": [
    "# Drop the rows\n",
    "twelve_emotions = twelve_emotions[twelve_emotions['sentiment']!='empty']"
   ]
  },
  {
   "cell_type": "markdown",
   "metadata": {},
   "source": [
    "Let's do the cleaning that I mentioned earlier. Here comes some functions."
   ]
  },
  {
   "cell_type": "code",
   "execution_count": 68,
   "metadata": {},
   "outputs": [
    {
     "data": {
      "text/html": [
       "<div>\n",
       "<style scoped>\n",
       "    .dataframe tbody tr th:only-of-type {\n",
       "        vertical-align: middle;\n",
       "    }\n",
       "\n",
       "    .dataframe tbody tr th {\n",
       "        vertical-align: top;\n",
       "    }\n",
       "\n",
       "    .dataframe thead th {\n",
       "        text-align: right;\n",
       "    }\n",
       "</style>\n",
       "<table border=\"1\" class=\"dataframe\">\n",
       "  <thead>\n",
       "    <tr style=\"text-align: right;\">\n",
       "      <th></th>\n",
       "      <th>sentiment</th>\n",
       "      <th>content</th>\n",
       "    </tr>\n",
       "  </thead>\n",
       "  <tbody>\n",
       "    <tr>\n",
       "      <th>1</th>\n",
       "      <td>sadness</td>\n",
       "      <td>layin n bed with a headache ughhhh waitin on y...</td>\n",
       "    </tr>\n",
       "    <tr>\n",
       "      <th>2</th>\n",
       "      <td>sadness</td>\n",
       "      <td>funeral ceremony gloomy friday</td>\n",
       "    </tr>\n",
       "    <tr>\n",
       "      <th>3</th>\n",
       "      <td>enthusiasm</td>\n",
       "      <td>want to hang out with friend soon</td>\n",
       "    </tr>\n",
       "    <tr>\n",
       "      <th>4</th>\n",
       "      <td>neutral</td>\n",
       "      <td>we want to trade with someone who ha houston t...</td>\n",
       "    </tr>\n",
       "    <tr>\n",
       "      <th>5</th>\n",
       "      <td>worry</td>\n",
       "      <td>re pinging why didn't you go to prom bc my bf ...</td>\n",
       "    </tr>\n",
       "  </tbody>\n",
       "</table>\n",
       "</div>"
      ],
      "text/plain": [
       "    sentiment                                            content\n",
       "1     sadness  layin n bed with a headache ughhhh waitin on y...\n",
       "2     sadness                     funeral ceremony gloomy friday\n",
       "3  enthusiasm                  want to hang out with friend soon\n",
       "4     neutral  we want to trade with someone who ha houston t...\n",
       "5       worry  re pinging why didn't you go to prom bc my bf ..."
      ]
     },
     "execution_count": 68,
     "metadata": {},
     "output_type": "execute_result"
    }
   ],
   "source": [
    "twelve_emotions['content'] = twelve_emotions['content'].map(lambda x: ' '.join([i for i in x.split() if i[0] != '@']))\n",
    "\n",
    "twelve_emotions['content'] = twelve_emotions['content'].apply(shorten)\n",
    "# Check to make sure it worked\n",
    "twelve_emotions.head()"
   ]
  },
  {
   "cell_type": "markdown",
   "metadata": {},
   "source": [
    "We also want to rename the columns."
   ]
  },
  {
   "cell_type": "code",
   "execution_count": 69,
   "metadata": {},
   "outputs": [],
   "source": [
    "twelve_emotions = twelve_emotions.rename(columns = {'content': 'Sentences', 'sentiment': 'Negativity'})"
   ]
  },
  {
   "cell_type": "code",
   "execution_count": 70,
   "metadata": {},
   "outputs": [],
   "source": [
    "# Binarize to between \"Negative\" and not.\n",
    "twelve_emotions['Negativity'] = twelve_emotions['Negativity'].map({'neutral': 0,  \n",
    "                                            'worry': 1,       \n",
    "                                            'happiness': 0,    \n",
    "                                            'sadness': 1, \n",
    "                                            'love': 0,        \n",
    "                                            'surprise': 0,    \n",
    "                                            'fun': 0,         \n",
    "                                            'relief': 0,      \n",
    "                                            'hate': 1,        \n",
    "                                            'empty': 0,       \n",
    "                                            'enthusiasm': 0,  \n",
    "                                            'boredom': 0,     \n",
    "                                            'anger': 1})"
   ]
  },
  {
   "cell_type": "markdown",
   "metadata": {},
   "source": [
    "We chose to label `boredom` as \"Non-Negative\" because as far as we know the emotion by itself doesn't lead to irrational thoughts. \n",
    "\n",
    "Count Vectorizing time."
   ]
  },
  {
   "cell_type": "code",
   "execution_count": 71,
   "metadata": {},
   "outputs": [],
   "source": [
    "# I needed this next line to prevent a `min arg()` error that would pop up due to populating the dataframe with nulls.\n",
    "twelve_emotions = twelve_emotions.reset_index().drop('index', axis=1)\n",
    "\n",
    "# Round two.\n",
    "X = twelve_emotions['Sentences']\n",
    "y = twelve_emotions[['Negativity']]\n",
    "\n",
    "try:\n",
    "    twelve_emotions_vec = vectorizer2000(X, y, 10_000, (2, 2))\n",
    "except MemoryError:\n",
    "    print('This is taking up too much memory use a smaller sample.')"
   ]
  },
  {
   "cell_type": "markdown",
   "metadata": {},
   "source": [
    "This one worked on our first try!"
   ]
  },
  {
   "cell_type": "markdown",
   "metadata": {},
   "source": [
    "Let's plot them"
   ]
  },
  {
   "cell_type": "code",
   "execution_count": 72,
   "metadata": {},
   "outputs": [
    {
     "data": {
      "image/png": "[encoded data removed]",
      "text/plain": [
       "<Figure size 576x432 with 1 Axes>"
      ]
     },
     "metadata": {
      "needs_background": "light"
     },
     "output_type": "display_data"
    }
   ],
   "source": [
    "neg_plotter(twelve_emotions_vec, 'Negativity', 'Non-Negative Words')"
   ]
  },
  {
   "cell_type": "code",
   "execution_count": 73,
   "metadata": {},
   "outputs": [
    {
     "data": {
      "image/png": "[encoded data removed]",
      "text/plain": [
       "<Figure size 576x432 with 1 Axes>"
      ]
     },
     "metadata": {
      "needs_background": "light"
     },
     "output_type": "display_data"
    }
   ],
   "source": [
    "pos_plotter(twelve_emotions_vec, 'Negativity')"
   ]
  },
  {
   "cell_type": "markdown",
   "metadata": {},
   "source": [
    "I love that the word `mother` comes up some much more in non-negative circumstances."
   ]
  },
  {
   "cell_type": "markdown",
   "metadata": {},
   "source": [
    "Let's save the cleaned dataset"
   ]
  },
  {
   "cell_type": "code",
   "execution_count": 74,
   "metadata": {},
   "outputs": [],
   "source": [
    "twelve_emotions.to_csv('../data/Training_Data/2_Cleaned_Training_Data/Other_Cleaned_Emotion_Analyzer.csv')"
   ]
  },
  {
   "cell_type": "code",
   "execution_count": 75,
   "metadata": {},
   "outputs": [],
   "source": [
    "# Memory efficiency as I mentiones before.\n",
    "del twelve_emotions, twelve_emotions_vec, X, y"
   ]
  },
  {
   "cell_type": "markdown",
   "metadata": {},
   "source": [
    "Now for our final dataset."
   ]
  },
  {
   "cell_type": "markdown",
   "metadata": {},
   "source": [
    "## Word Based Emotion Classification"
   ]
  },
  {
   "cell_type": "markdown",
   "metadata": {},
   "source": [
    "**Description from the [website](https://www.kaggle.com/iwilldoit/emotions-sensor-data-set):**<br>\n",
    "-First We Collected Thousands of Sentences, Blogs and Twitters all about 1.185.540 Words\n",
    "\n",
    "-We Labeled Manually and Automatically this Sentences Into 7 Basic Emotion Disgust, Surprise ,Neutral ,Anger ,Sad ,Happy and Fear.\n",
    "\n",
    "-Now We Choose The Top of Most Used 23 730 English Words\n",
    "\n",
    "-Word by Word We Calculated The Probabilities of Existence of This Words in Disgust, Surprise ,Neutral ,Anger ,Sad ,Happy and Fear Sentences and Put Them in Simple CSV File\n",
    "\n",
    "-We Used The Naive Bayes Algorithm To Calculate This Probabilities Of Existence Of This Words\n",
    "\n",
    "**Purpose**: <br>\n",
    "This dataset will actually be used as a model. The dataset contains about a eleven hundred words which we will use to \"predict whether a statement is negative. When we check out what it looks like, it will become more clear."
   ]
  },
  {
   "cell_type": "code",
   "execution_count": 76,
   "metadata": {},
   "outputs": [
    {
     "data": {
      "text/html": [
       "<div>\n",
       "<style scoped>\n",
       "    .dataframe tbody tr th:only-of-type {\n",
       "        vertical-align: middle;\n",
       "    }\n",
       "\n",
       "    .dataframe tbody tr th {\n",
       "        vertical-align: top;\n",
       "    }\n",
       "\n",
       "    .dataframe thead th {\n",
       "        text-align: right;\n",
       "    }\n",
       "</style>\n",
       "<table border=\"1\" class=\"dataframe\">\n",
       "  <thead>\n",
       "    <tr style=\"text-align: right;\">\n",
       "      <th></th>\n",
       "      <th>word</th>\n",
       "      <th>disgust</th>\n",
       "      <th>surprise</th>\n",
       "      <th>neutral</th>\n",
       "      <th>anger</th>\n",
       "      <th>sad</th>\n",
       "      <th>happy</th>\n",
       "      <th>fear</th>\n",
       "    </tr>\n",
       "  </thead>\n",
       "  <tbody>\n",
       "    <tr>\n",
       "      <th>0</th>\n",
       "      <td>ability</td>\n",
       "      <td>0.004464</td>\n",
       "      <td>0.047832</td>\n",
       "      <td>0.000638</td>\n",
       "      <td>0.023597</td>\n",
       "      <td>0.013393</td>\n",
       "      <td>0.015944</td>\n",
       "      <td>0.040179</td>\n",
       "    </tr>\n",
       "    <tr>\n",
       "      <th>1</th>\n",
       "      <td>able</td>\n",
       "      <td>0.000017</td>\n",
       "      <td>0.000182</td>\n",
       "      <td>0.000409</td>\n",
       "      <td>0.000176</td>\n",
       "      <td>0.000219</td>\n",
       "      <td>0.000244</td>\n",
       "      <td>0.000186</td>\n",
       "    </tr>\n",
       "    <tr>\n",
       "      <th>2</th>\n",
       "      <td>abuse</td>\n",
       "      <td>0.000532</td>\n",
       "      <td>0.000177</td>\n",
       "      <td>0.000177</td>\n",
       "      <td>0.137363</td>\n",
       "      <td>0.001241</td>\n",
       "      <td>0.001595</td>\n",
       "      <td>0.002659</td>\n",
       "    </tr>\n",
       "    <tr>\n",
       "      <th>3</th>\n",
       "      <td>academy</td>\n",
       "      <td>0.007143</td>\n",
       "      <td>0.021429</td>\n",
       "      <td>0.007143</td>\n",
       "      <td>0.007143</td>\n",
       "      <td>0.007143</td>\n",
       "      <td>0.092857</td>\n",
       "      <td>0.035714</td>\n",
       "    </tr>\n",
       "    <tr>\n",
       "      <th>4</th>\n",
       "      <td>accept</td>\n",
       "      <td>0.008271</td>\n",
       "      <td>0.006767</td>\n",
       "      <td>0.000752</td>\n",
       "      <td>0.048872</td>\n",
       "      <td>0.018797</td>\n",
       "      <td>0.024812</td>\n",
       "      <td>0.038346</td>\n",
       "    </tr>\n",
       "  </tbody>\n",
       "</table>\n",
       "</div>"
      ],
      "text/plain": [
       "       word   disgust  surprise   neutral     anger       sad     happy  \\\n",
       "0  ability   0.004464  0.047832  0.000638  0.023597  0.013393  0.015944   \n",
       "1     able   0.000017  0.000182  0.000409  0.000176  0.000219  0.000244   \n",
       "2    abuse   0.000532  0.000177  0.000177  0.137363  0.001241  0.001595   \n",
       "3  academy   0.007143  0.021429  0.007143  0.007143  0.007143  0.092857   \n",
       "4   accept   0.008271  0.006767  0.000752  0.048872  0.018797  0.024812   \n",
       "\n",
       "       fear  \n",
       "0  0.040179  \n",
       "1  0.000186  \n",
       "2  0.002659  \n",
       "3  0.035714  \n",
       "4  0.038346  "
      ]
     },
     "execution_count": 76,
     "metadata": {},
     "output_type": "execute_result"
    }
   ],
   "source": [
    "word_emotions.head()"
   ]
  },
  {
   "cell_type": "markdown",
   "metadata": {},
   "source": [
    "This dataset has already been cleaned but i'll double check for null values and do summary statistics."
   ]
  },
  {
   "cell_type": "code",
   "execution_count": 77,
   "metadata": {},
   "outputs": [
    {
     "data": {
      "text/plain": [
       "0"
      ]
     },
     "execution_count": 77,
     "metadata": {},
     "output_type": "execute_result"
    }
   ],
   "source": [
    "# Null check\n",
    "word_emotions.isnull().sum().sum()"
   ]
  },
  {
   "cell_type": "code",
   "execution_count": 78,
   "metadata": {},
   "outputs": [
    {
     "data": {
      "text/html": [
       "<div>\n",
       "<style scoped>\n",
       "    .dataframe tbody tr th:only-of-type {\n",
       "        vertical-align: middle;\n",
       "    }\n",
       "\n",
       "    .dataframe tbody tr th {\n",
       "        vertical-align: top;\n",
       "    }\n",
       "\n",
       "    .dataframe thead th {\n",
       "        text-align: right;\n",
       "    }\n",
       "</style>\n",
       "<table border=\"1\" class=\"dataframe\">\n",
       "  <thead>\n",
       "    <tr style=\"text-align: right;\">\n",
       "      <th></th>\n",
       "      <th>disgust</th>\n",
       "      <th>surprise</th>\n",
       "      <th>neutral</th>\n",
       "      <th>anger</th>\n",
       "      <th>sad</th>\n",
       "      <th>happy</th>\n",
       "      <th>fear</th>\n",
       "    </tr>\n",
       "  </thead>\n",
       "  <tbody>\n",
       "    <tr>\n",
       "      <th>count</th>\n",
       "      <td>1104.000000</td>\n",
       "      <td>1104.000000</td>\n",
       "      <td>1104.000000</td>\n",
       "      <td>1104.000000</td>\n",
       "      <td>1104.000000</td>\n",
       "      <td>1104.000000</td>\n",
       "      <td>1104.000000</td>\n",
       "    </tr>\n",
       "    <tr>\n",
       "      <th>mean</th>\n",
       "      <td>0.012809</td>\n",
       "      <td>0.032376</td>\n",
       "      <td>0.008170</td>\n",
       "      <td>0.028224</td>\n",
       "      <td>0.027243</td>\n",
       "      <td>0.033701</td>\n",
       "      <td>0.030917</td>\n",
       "    </tr>\n",
       "    <tr>\n",
       "      <th>std</th>\n",
       "      <td>0.015313</td>\n",
       "      <td>0.025154</td>\n",
       "      <td>0.010011</td>\n",
       "      <td>0.024109</td>\n",
       "      <td>0.021836</td>\n",
       "      <td>0.026960</td>\n",
       "      <td>0.024391</td>\n",
       "    </tr>\n",
       "    <tr>\n",
       "      <th>min</th>\n",
       "      <td>0.000002</td>\n",
       "      <td>0.000003</td>\n",
       "      <td>0.000032</td>\n",
       "      <td>0.000003</td>\n",
       "      <td>0.000003</td>\n",
       "      <td>0.000003</td>\n",
       "      <td>0.000003</td>\n",
       "    </tr>\n",
       "    <tr>\n",
       "      <th>25%</th>\n",
       "      <td>0.002528</td>\n",
       "      <td>0.015640</td>\n",
       "      <td>0.000992</td>\n",
       "      <td>0.011905</td>\n",
       "      <td>0.011905</td>\n",
       "      <td>0.015306</td>\n",
       "      <td>0.014286</td>\n",
       "    </tr>\n",
       "    <tr>\n",
       "      <th>50%</th>\n",
       "      <td>0.007937</td>\n",
       "      <td>0.026907</td>\n",
       "      <td>0.003968</td>\n",
       "      <td>0.023810</td>\n",
       "      <td>0.023810</td>\n",
       "      <td>0.027778</td>\n",
       "      <td>0.026316</td>\n",
       "    </tr>\n",
       "    <tr>\n",
       "      <th>75%</th>\n",
       "      <td>0.017857</td>\n",
       "      <td>0.041245</td>\n",
       "      <td>0.011905</td>\n",
       "      <td>0.035714</td>\n",
       "      <td>0.035714</td>\n",
       "      <td>0.042857</td>\n",
       "      <td>0.038462</td>\n",
       "    </tr>\n",
       "    <tr>\n",
       "      <th>max</th>\n",
       "      <td>0.139456</td>\n",
       "      <td>0.135056</td>\n",
       "      <td>0.035714</td>\n",
       "      <td>0.137363</td>\n",
       "      <td>0.125000</td>\n",
       "      <td>0.137363</td>\n",
       "      <td>0.140538</td>\n",
       "    </tr>\n",
       "  </tbody>\n",
       "</table>\n",
       "</div>"
      ],
      "text/plain": [
       "           disgust     surprise      neutral        anger          sad  \\\n",
       "count  1104.000000  1104.000000  1104.000000  1104.000000  1104.000000   \n",
       "mean      0.012809     0.032376     0.008170     0.028224     0.027243   \n",
       "std       0.015313     0.025154     0.010011     0.024109     0.021836   \n",
       "min       0.000002     0.000003     0.000032     0.000003     0.000003   \n",
       "25%       0.002528     0.015640     0.000992     0.011905     0.011905   \n",
       "50%       0.007937     0.026907     0.003968     0.023810     0.023810   \n",
       "75%       0.017857     0.041245     0.011905     0.035714     0.035714   \n",
       "max       0.139456     0.135056     0.035714     0.137363     0.125000   \n",
       "\n",
       "             happy         fear  \n",
       "count  1104.000000  1104.000000  \n",
       "mean      0.033701     0.030917  \n",
       "std       0.026960     0.024391  \n",
       "min       0.000003     0.000003  \n",
       "25%       0.015306     0.014286  \n",
       "50%       0.027778     0.026316  \n",
       "75%       0.042857     0.038462  \n",
       "max       0.137363     0.140538  "
      ]
     },
     "execution_count": 78,
     "metadata": {},
     "output_type": "execute_result"
    }
   ],
   "source": [
    "word_emotions.describe()"
   ]
  },
  {
   "cell_type": "markdown",
   "metadata": {},
   "source": [
    "Let's see some of the words with the highest weights. We'll create a function and print the words with the highest and lowest weights for every emotion."
   ]
  },
  {
   "cell_type": "code",
   "execution_count": 79,
   "metadata": {},
   "outputs": [],
   "source": [
    "def max_weight(column_name):\n",
    "    print(word_emotions[word_emotions[column_name] == word_emotions[column_name].max()][['word', column_name]])\n",
    "def min_weight(column_name):\n",
    "    print(word_emotions[word_emotions[column_name] == word_emotions[column_name].min()][['word', column_name]])"
   ]
  },
  {
   "cell_type": "code",
   "execution_count": 80,
   "metadata": {},
   "outputs": [],
   "source": [
    "column_list = list(word_emotions.columns)"
   ]
  },
  {
   "cell_type": "code",
   "execution_count": 81,
   "metadata": {},
   "outputs": [],
   "source": [
    "column_list.remove('word')"
   ]
  },
  {
   "cell_type": "code",
   "execution_count": 82,
   "metadata": {},
   "outputs": [
    {
     "name": "stdout",
     "output_type": "stream",
     "text": [
      "       word   disgust\n",
      "758  porno   0.139456\n",
      "\n",
      "\n",
      "      word   disgust\n",
      "442  gift   0.000002\n",
      "\n",
      "\n",
      "        word  surprise\n",
      "34  amazing   0.135056\n",
      "\n",
      "\n",
      "         word  surprise\n",
      "18  advanced   0.000003\n",
      "\n",
      "\n",
      "                 word   neutral\n",
      "7           accuracy   0.035714\n",
      "13         addresses   0.035714\n",
      "14     administrator   0.035714\n",
      "15             adobe   0.035714\n",
      "21     advertisement   0.035714\n",
      "29           alabama   0.035714\n",
      "38              anal   0.035714\n",
      "46                ap   0.035714\n",
      "48        apartments   0.035714\n",
      "71           austria   0.035714\n",
      "74               ave   0.035714\n",
      "78             babes   0.035714\n",
      "93               bbc   0.035714\n",
      "119            bonus   0.035714\n",
      "150               cc   0.035714\n",
      "152          centers   0.035714\n",
      "154               ch   0.035714\n",
      "186     collectibles   0.035714\n",
      "212        contained   0.035714\n",
      "216         controls   0.035714\n",
      "217       convention   0.035714\n",
      "234         criteria   0.035714\n",
      "241              cvs   0.035714\n",
      "251            davis   0.035714\n",
      "267            delta   0.035714\n",
      "285             disc   0.035714\n",
      "320        editorial   0.035714\n",
      "336           equity   0.035714\n",
      "388            filed   0.035714\n",
      "413         forecast   0.035714\n",
      "...               ...       ...\n",
      "694          ontario   0.035714\n",
      "701           oregon   0.035714\n",
      "727         payments   0.035714\n",
      "735        personnel   0.035714\n",
      "759         portable   0.035714\n",
      "763           postal   0.035714\n",
      "777       prevention   0.035714\n",
      "781        principal   0.035714\n",
      "784         printers   0.035714\n",
      "792         profiles   0.035714\n",
      "804        provision   0.035714\n",
      "808         quantity   0.035714\n",
      "811            query   0.035714\n",
      "834       recreation   0.035714\n",
      "839          regions   0.035714\n",
      "852      replacement   0.035714\n",
      "862        residents   0.035714\n",
      "866          revenue   0.035714\n",
      "927           signal   0.035714\n",
      "928        signature   0.035714\n",
      "961   specifications   0.035714\n",
      "962            specs   0.035714\n",
      "968          sponsor   0.035714\n",
      "1007       tennessee   0.035714\n",
      "1054          vendor   0.035714\n",
      "1065          voyeur   0.035714\n",
      "1067           wales   0.035714\n",
      "1074        warranty   0.035714\n",
      "1079       webmaster   0.035714\n",
      "1092       wisconsin   0.035714\n",
      "\n",
      "[77 rows x 2 columns]\n",
      "\n",
      "\n",
      "        word   neutral\n",
      "34  amazing   0.000032\n",
      "\n",
      "\n",
      "     word     anger\n",
      "2  abuse   0.137363\n",
      "\n",
      "\n",
      "          word     anger\n",
      "380  features   0.000003\n",
      "\n",
      "\n",
      "    word    sad\n",
      "9  acid   0.125\n",
      "\n",
      "\n",
      "      word       sad\n",
      "974  star   0.000003\n",
      "\n",
      "\n",
      "            word     happy\n",
      "198  compatible   0.137363\n",
      "\n",
      "\n",
      "      word     happy\n",
      "757  porn   0.000003\n",
      "\n",
      "\n",
      "         word      fear\n",
      "678  nuclear   0.140538\n",
      "\n",
      "\n",
      "        word      fear\n",
      "688  offers   0.000003\n",
      "\n",
      "\n"
     ]
    }
   ],
   "source": [
    "for column in column_list:\n",
    "    max_weight(column)\n",
    "    print('\\n')\n",
    "    min_weight(column)\n",
    "    print('\\n')"
   ]
  },
  {
   "cell_type": "markdown",
   "metadata": {},
   "source": [
    "Fascinating list of words. Wow! Although the fact that `Neutral` is repeated so many times is concerning. Well, anyways, that's all for this notebook. Next up we'll clean the testing data and then we'll start modelling."
   ]
  }
 ],
 "metadata": {
  "kernelspec": {
   "display_name": "Python 3",
   "language": "python",
   "name": "python3"
  },
  "language_info": {
   "codemirror_mode": {
    "name": "ipython",
    "version": 3
   },
   "file_extension": ".py",
   "mimetype": "text/x-python",
   "name": "python",
   "nbconvert_exporter": "python",
   "pygments_lexer": "ipython3",
   "version": "3.7.4"
  },
  "varInspector": {
   "cols": {
    "lenName": 16,
    "lenType": 16,
    "lenVar": 40
   },
   "kernels_config": {
    "python": {
     "delete_cmd_postfix": "",
     "delete_cmd_prefix": "del ",
     "library": "var_list.py",
     "varRefreshCmd": "print(var_dic_list())"
    },
    "r": {
     "delete_cmd_postfix": ") ",
     "delete_cmd_prefix": "rm(",
     "library": "var_list.r",
     "varRefreshCmd": "cat(var_dic_list()) "
    }
   },
   "types_to_exclude": [
    "module",
    "function",
    "builtin_function_or_method",
    "instance",
    "_Feature"
   ],
   "window_display": false
  }
 },
 "nbformat": 4,
 "nbformat_minor": 2
}
